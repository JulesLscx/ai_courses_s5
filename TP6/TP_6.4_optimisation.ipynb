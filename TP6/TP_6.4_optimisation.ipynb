{
 "cells": [
  {
   "cell_type": "markdown",
   "metadata": {
    "tags": []
   },
   "source": [
    " # TP 6: Apprentissage profond(Deep learning)\n",
    " ## TP 6.4  : Optimisation \n",
    " \n",
    "- Régularisation :  Dropout\n",
    "- Normalisation \n",
    "    - Inputs\n",
    "    - les autres couches (batch Normalisation: avant ou après l'activation)\n",
    "- Optimiseurs: \n",
    "    - RMSProp, Adam, SGD, \n",
    "- Hyperparameter tuning : \n",
    "    - learning_rate\n",
    "    - \\#couches\n",
    "    - \\#neurones par couche\n",
    "    - taille du mini batch \n",
    "- ...\n",
    "# Exercice\n",
    "Trouver le meilleur modèle pour les données  de \"smoking\"\n",
    "Le programme doit tester les différentes configurations (et hyperparamètres).\n",
    "\n",
    "Visiter le site keras ou tensorflow pour vérifier la maniène d'utiliser ces différents paramètres\n",
    "\n",
    "PS : comparer aussi avec les modèes classiques : (KNN, Randomforest, ...) "
   ]
  },
  {
   "cell_type": "code",
   "execution_count": 1,
   "metadata": {
    "tags": []
   },
   "outputs": [
    {
     "name": "stdout",
     "output_type": "stream",
     "text": [
      "WARNING:tensorflow:From C:\\Users\\jules\\AppData\\Local\\Packages\\PythonSoftwareFoundation.Python.3.11_qbz5n2kfra8p0\\LocalCache\\local-packages\\Python311\\site-packages\\keras\\src\\losses.py:2976: The name tf.losses.sparse_softmax_cross_entropy is deprecated. Please use tf.compat.v1.losses.sparse_softmax_cross_entropy instead.\n",
      "\n"
     ]
    }
   ],
   "source": [
    "import numpy as np\n",
    "import pandas as pd\n",
    "import matplotlib.pyplot as plt\n",
    "import tensorflow as tf\n",
    "from tensorflow import keras\n",
    "\n",
    "from sklearn.preprocessing import RobustScaler\n",
    "from sklearn.model_selection import train_test_split\n",
    "from sklearn.metrics import ConfusionMatrixDisplay\n",
    "from sklearn.metrics import confusion_matrix\n",
    "import seaborn as sns\n",
    "import warnings\n"
   ]
  },
  {
   "cell_type": "code",
   "execution_count": 2,
   "metadata": {},
   "outputs": [],
   "source": [
    "warnings.filterwarnings(\"ignore\")\n",
    "tf.random.set_seed(42)"
   ]
  },
  {
   "cell_type": "code",
   "execution_count": 3,
   "metadata": {},
   "outputs": [],
   "source": [
    "# Lecture du dataset n permet de limiter le nombre de lignes à lire\n",
    "# Pour faciliter les tests\n",
    "\n",
    "def load_data(n):\n",
    "    data = pd.read_csv('../data/train.new.csv')\n",
    "    return data[0:n]\n",
    "\n",
    "def select_variables(data):\n",
    "    data.dropna(axis=0, inplace=True)\n",
    "    y = data['smoking'] # récupérer la colonne survived et la mettre dans y\n",
    "    X = data.drop('country', axis=1)\n",
    "    X = X.drop('id', axis=1)\n",
    "    X = X.replace([\"M\", \"F\"], [0, 1])\n",
    "    X = X.drop('smoking', axis=1)\n",
    "    return X,y"
   ]
  },
  {
   "cell_type": "code",
   "execution_count": 4,
   "metadata": {},
   "outputs": [],
   "source": [
    "from sklearn.preprocessing import RobustScaler\n",
    "from sklearn.model_selection import train_test_split\n",
    "normalizer = RobustScaler()\n"
   ]
  },
  {
   "cell_type": "code",
   "execution_count": 5,
   "metadata": {},
   "outputs": [],
   "source": [
    "data=load_data(-1)\n",
    "# sélectionner les variables\n",
    "X,y = select_variables(data)\n",
    "X_train, X_test, y_train, y_test = train_test_split(X,y, random_state=0, test_size=0.2)\n",
    "X_train = normalizer.fit_transform(X_train)\n",
    "X_test = normalizer.transform(X_test)"
   ]
  },
  {
   "cell_type": "code",
   "execution_count": 6,
   "metadata": {},
   "outputs": [
    {
     "data": {
      "text/plain": [
       "(array([[-1.33333333,  1.        ,  1.5       , ..., -0.125     ,\n",
       "         -0.42307692,  0.        ],\n",
       "        [-1.33333333,  0.        ,  1.        , ..., -0.625     ,\n",
       "          0.38461538,  1.        ],\n",
       "        [-0.33333333,  1.        ,  0.5       , ...,  1.6875    ,\n",
       "          0.92307692,  0.        ],\n",
       "        ...,\n",
       "        [ 2.        ,  1.        , -0.5       , ..., -0.5625    ,\n",
       "          0.19230769,  0.        ],\n",
       "        [ 1.33333333,  0.        , -1.5       , ...,  0.625     ,\n",
       "         -0.19230769,  0.        ],\n",
       "        [-0.33333333,  0.        ,  1.        , ...,  0.8125    ,\n",
       "          0.61538462,  1.        ]]),\n",
       " 79635     1\n",
       " 147007    1\n",
       " 46083     1\n",
       " 103949    1\n",
       " 45300     1\n",
       "          ..\n",
       " 46310     0\n",
       " 34606     1\n",
       " 66883     0\n",
       " 142476    0\n",
       " 12769     1\n",
       " Name: smoking, Length: 27325, dtype: int64)"
      ]
     },
     "execution_count": 6,
     "metadata": {},
     "output_type": "execute_result"
    }
   ],
   "source": [
    "X_test, y_test"
   ]
  },
  {
   "cell_type": "code",
   "execution_count": 7,
   "metadata": {},
   "outputs": [],
   "source": [
    "from tensorflow import keras\n",
    "from tensorflow.keras import layers\n",
    "from kerastuner.tuners import Hyperband\n",
    "\n",
    "def build_model(hp):\n",
    "    model = keras.Sequential()\n",
    "    \n",
    "    # Add layers based on the best hyperparameters\n",
    "    for _ in range(hp.Int('nb_layers', min_value=2, max_value=5)):\n",
    "        if model.layers != []:\n",
    "            if hp.Choice('add_dropout_and_batch', values=[True, False]):\n",
    "                model.add(layers.Dropout(hp.Float('dropout', min_value=0.0, max_value=0.5, step=0.1)))\n",
    "                model.add(layers.BatchNormalization())\n",
    "        model.add(layers.Dense(units=hp.Int('nb_units', min_value=32, max_value=528, step=64),\n",
    "                               activation='relu'))\n",
    "        model.add(layers.C)\n",
    "\n",
    "    model.add(layers.Dense(1, activation='sigmoid'))\n",
    "    # Decay learning rate\n",
    "    learning_rate = tf.keras.optimizers.schedules.ExponentialDecay(\n",
    "        initial_learning_rate=hp.Choice('learning_rate', values=[1e-2, 1e-3, 1e-4]),\n",
    "        decay_steps=10000,\n",
    "        decay_rate=0.9)\n",
    "    model.compile(optimizer=keras.optimizers.Adam(learning_rate=learning_rate),\n",
    "                  loss='binary_crossentropy',\n",
    "                  metrics=['accuracy'])\n",
    "    \n",
    "    return model"
   ]
  },
  {
   "cell_type": "code",
   "execution_count": 14,
   "metadata": {},
   "outputs": [],
   "source": [
    "def build_hierarchical_model(hp):\n",
    "    model = keras.Sequential()\n",
    "    \n",
    "    # Add layers based on the best hyperparameters\n",
    "    tot_units = hp.Int('nb_units', min_value=32, max_value=528, step=64)\n",
    "    #each layer have 2 times less units than the previous one\n",
    "    while tot_units >= 32:\n",
    "        if (model.layers != []):\n",
    "            model.add(layers.Dropout(hp.Float('dropout', min_value=0.0, max_value=0.5, step=0.1)))\n",
    "            model.add(layers.BatchNormalization())\n",
    "        model.add(layers.Dense(units=tot_units, activation='relu'))\n",
    "        tot_units = tot_units // 2\n",
    "    model.add(layers.Dense(1, activation='sigmoid'))\n",
    "    learning_rate = hp.Choice('learning_rate', values=[1e-2, 1e-3, 1e-4])\n",
    "    model.compile(optimizer=keras.optimizers.Adam(learning_rate=learning_rate),\n",
    "                  loss='binary_crossentropy',\n",
    "                  metrics=['accuracy'])\n",
    "    return model"
   ]
  },
  {
   "cell_type": "code",
   "execution_count": 18,
   "metadata": {},
   "outputs": [],
   "source": [
    "def tune_model(X_train, y_train, X_test, y_test):\n",
    "    tuner = Hyperband(build_hierarchical_model,\n",
    "                      objective='val_accuracy',\n",
    "                      max_epochs=30,\n",
    "                      factor=3,\n",
    "                      hyperband_iterations=8,\n",
    "                      directory='my_dir',\n",
    "                      project_name='intro_to_kt')\n",
    "    \n",
    "    tuner.search(X_train, y_train,\n",
    "                 epochs=50,\n",
    "                    validation_data=(X_test, y_test))\n",
    "    \n",
    "    best_hps = tuner.get_best_hyperparameters()[0]\n",
    "    \n",
    "    return best_hps"
   ]
  },
  {
   "cell_type": "code",
   "execution_count": 19,
   "metadata": {},
   "outputs": [
    {
     "name": "stdout",
     "output_type": "stream",
     "text": [
      "Trial 153 Complete [00h 00m 28s]\n",
      "val_accuracy: 0.7692589163780212\n",
      "\n",
      "Best val_accuracy So Far: 0.7763952612876892\n",
      "Total elapsed time: 01h 06m 14s\n"
     ]
    }
   ],
   "source": [
    "best_hps = tune_model(X_train, y_train, X_test, y_test)"
   ]
  },
  {
   "cell_type": "code",
   "execution_count": 24,
   "metadata": {},
   "outputs": [
    {
     "data": {
      "text/plain": [
       "(0.001, 96, 0.2)"
      ]
     },
     "execution_count": 24,
     "metadata": {},
     "output_type": "execute_result"
    }
   ],
   "source": [
    "#get the top 10 models\n",
    "best_hps.get('learning_rate'), best_hps.get('nb_units'), best_hps.get('dropout')"
   ]
  },
  {
   "cell_type": "markdown",
   "metadata": {},
   "source": [
    "# Meilleur modèle pour l'instant :\n",
    "- 3 couches cachées\n",
    "- Une de 96 neurones\n",
    "- Une de 48 neurones\n",
    "- Une de 24 neurones\n",
    "- Dropout de 0.2\n",
    "- Batch Normalisation avant l'activation\n",
    "- Optimiseur : Adam\n",
    "- Learning rate : 0.001 (test en cours avec un learning rate dynamique)\n",
    "\n",
    "# Résultats :\n",
    "- 0.777 de précision sur le test set"
   ]
  },
  {
   "cell_type": "code",
   "execution_count": 47,
   "metadata": {},
   "outputs": [
    {
     "name": "stdout",
     "output_type": "stream",
     "text": [
      "Epoch 1/200\n",
      "6832/6832 [==============================] - 9s 1ms/step - loss: 0.5075 - accuracy: 0.7406 - val_loss: 0.4658 - val_accuracy: 0.7693\n",
      "Epoch 2/200\n",
      "6832/6832 [==============================] - 8s 1ms/step - loss: 0.4895 - accuracy: 0.7530 - val_loss: 0.4636 - val_accuracy: 0.7658\n",
      "Epoch 3/200\n",
      "6832/6832 [==============================] - 8s 1ms/step - loss: 0.4882 - accuracy: 0.7538 - val_loss: 0.4594 - val_accuracy: 0.7711\n",
      "Epoch 4/200\n",
      "6832/6832 [==============================] - 8s 1ms/step - loss: 0.4849 - accuracy: 0.7577 - val_loss: 0.4619 - val_accuracy: 0.7683\n",
      "Epoch 5/200\n",
      "6832/6832 [==============================] - 8s 1ms/step - loss: 0.4833 - accuracy: 0.7579 - val_loss: 0.4613 - val_accuracy: 0.7704\n",
      "Epoch 6/200\n",
      "6832/6832 [==============================] - 8s 1ms/step - loss: 0.4820 - accuracy: 0.7581 - val_loss: 0.4591 - val_accuracy: 0.7705\n",
      "Epoch 7/200\n",
      "6832/6832 [==============================] - 8s 1ms/step - loss: 0.4815 - accuracy: 0.7595 - val_loss: 0.4599 - val_accuracy: 0.7705\n",
      "Epoch 8/200\n",
      "6832/6832 [==============================] - 8s 1ms/step - loss: 0.4802 - accuracy: 0.7590 - val_loss: 0.4651 - val_accuracy: 0.7689\n",
      "Epoch 9/200\n",
      "6832/6832 [==============================] - 8s 1ms/step - loss: 0.4805 - accuracy: 0.7595 - val_loss: 0.4598 - val_accuracy: 0.7726\n",
      "Epoch 10/200\n",
      "6832/6832 [==============================] - 8s 1ms/step - loss: 0.4795 - accuracy: 0.7608 - val_loss: 0.4621 - val_accuracy: 0.7720\n",
      "Epoch 11/200\n",
      "6832/6832 [==============================] - 8s 1ms/step - loss: 0.4785 - accuracy: 0.7614 - val_loss: 0.4584 - val_accuracy: 0.7728\n",
      "Epoch 12/200\n",
      "6832/6832 [==============================] - 8s 1ms/step - loss: 0.4779 - accuracy: 0.7626 - val_loss: 0.4577 - val_accuracy: 0.7724\n",
      "Epoch 13/200\n",
      "6832/6832 [==============================] - 8s 1ms/step - loss: 0.4795 - accuracy: 0.7604 - val_loss: 0.4584 - val_accuracy: 0.7728\n",
      "Epoch 14/200\n",
      "6832/6832 [==============================] - 8s 1ms/step - loss: 0.4770 - accuracy: 0.7630 - val_loss: 0.4581 - val_accuracy: 0.7734\n",
      "Epoch 15/200\n",
      "6832/6832 [==============================] - 8s 1ms/step - loss: 0.4774 - accuracy: 0.7616 - val_loss: 0.4630 - val_accuracy: 0.7737\n",
      "Epoch 16/200\n",
      "6832/6832 [==============================] - 8s 1ms/step - loss: 0.4776 - accuracy: 0.7628 - val_loss: 0.4581 - val_accuracy: 0.7748\n",
      "Epoch 17/200\n",
      "6832/6832 [==============================] - 8s 1ms/step - loss: 0.4776 - accuracy: 0.7625 - val_loss: 0.4612 - val_accuracy: 0.7738\n",
      "Epoch 18/200\n",
      "6832/6832 [==============================] - 8s 1ms/step - loss: 0.4770 - accuracy: 0.7631 - val_loss: 0.4590 - val_accuracy: 0.7720\n",
      "Epoch 19/200\n",
      "6832/6832 [==============================] - 8s 1ms/step - loss: 0.4771 - accuracy: 0.7640 - val_loss: 0.4573 - val_accuracy: 0.7730\n",
      "Epoch 20/200\n",
      "6832/6832 [==============================] - 8s 1ms/step - loss: 0.4762 - accuracy: 0.7651 - val_loss: 0.4565 - val_accuracy: 0.7740\n",
      "Epoch 21/200\n",
      "6832/6832 [==============================] - 8s 1ms/step - loss: 0.4764 - accuracy: 0.7645 - val_loss: 0.4598 - val_accuracy: 0.7721\n",
      "Epoch 22/200\n",
      "6832/6832 [==============================] - 8s 1ms/step - loss: 0.4770 - accuracy: 0.7630 - val_loss: 0.4591 - val_accuracy: 0.7745\n",
      "Epoch 23/200\n",
      "6832/6832 [==============================] - 8s 1ms/step - loss: 0.4759 - accuracy: 0.7639 - val_loss: 0.4595 - val_accuracy: 0.7752\n",
      "Epoch 24/200\n",
      "6832/6832 [==============================] - 8s 1ms/step - loss: 0.4774 - accuracy: 0.7648 - val_loss: 0.4585 - val_accuracy: 0.7741\n",
      "Epoch 25/200\n",
      "6832/6832 [==============================] - 8s 1ms/step - loss: 0.4760 - accuracy: 0.7648 - val_loss: 0.4597 - val_accuracy: 0.7730\n",
      "Epoch 26/200\n",
      "6832/6832 [==============================] - 8s 1ms/step - loss: 0.4765 - accuracy: 0.7643 - val_loss: 0.4607 - val_accuracy: 0.7733\n",
      "Epoch 27/200\n",
      "6832/6832 [==============================] - 8s 1ms/step - loss: 0.4770 - accuracy: 0.7638 - val_loss: 0.4636 - val_accuracy: 0.7726\n",
      "Epoch 28/200\n",
      "6832/6832 [==============================] - 8s 1ms/step - loss: 0.4762 - accuracy: 0.7628 - val_loss: 0.4560 - val_accuracy: 0.7713\n",
      "Epoch 29/200\n",
      "6832/6832 [==============================] - 8s 1ms/step - loss: 0.4743 - accuracy: 0.7640 - val_loss: 0.4563 - val_accuracy: 0.7748\n",
      "Epoch 30/200\n",
      "6832/6832 [==============================] - 8s 1ms/step - loss: 0.4751 - accuracy: 0.7642 - val_loss: 0.4560 - val_accuracy: 0.7757\n",
      "Epoch 31/200\n",
      "6832/6832 [==============================] - 8s 1ms/step - loss: 0.4765 - accuracy: 0.7633 - val_loss: 0.4572 - val_accuracy: 0.7731\n",
      "Epoch 32/200\n",
      "6832/6832 [==============================] - 8s 1ms/step - loss: 0.4754 - accuracy: 0.7644 - val_loss: 0.4587 - val_accuracy: 0.7736\n",
      "Epoch 33/200\n",
      "6832/6832 [==============================] - 8s 1ms/step - loss: 0.4744 - accuracy: 0.7652 - val_loss: 0.4580 - val_accuracy: 0.7728\n",
      "Epoch 34/200\n",
      "6832/6832 [==============================] - 8s 1ms/step - loss: 0.4741 - accuracy: 0.7665 - val_loss: 0.4583 - val_accuracy: 0.7734\n",
      "Epoch 35/200\n",
      "6832/6832 [==============================] - 8s 1ms/step - loss: 0.4740 - accuracy: 0.7650 - val_loss: 0.4612 - val_accuracy: 0.7731\n",
      "Epoch 36/200\n",
      "6832/6832 [==============================] - 8s 1ms/step - loss: 0.4755 - accuracy: 0.7636 - val_loss: 0.4623 - val_accuracy: 0.7708\n",
      "Epoch 37/200\n",
      "6832/6832 [==============================] - 8s 1ms/step - loss: 0.4742 - accuracy: 0.7666 - val_loss: 0.4600 - val_accuracy: 0.7728\n",
      "Epoch 38/200\n",
      "6832/6832 [==============================] - 8s 1ms/step - loss: 0.4726 - accuracy: 0.7676 - val_loss: 0.4571 - val_accuracy: 0.7742\n",
      "Epoch 39/200\n",
      "6832/6832 [==============================] - 8s 1ms/step - loss: 0.4744 - accuracy: 0.7643 - val_loss: 0.4559 - val_accuracy: 0.7732\n",
      "Epoch 40/200\n",
      "6832/6832 [==============================] - 8s 1ms/step - loss: 0.4748 - accuracy: 0.7659 - val_loss: 0.4578 - val_accuracy: 0.7736\n",
      "Epoch 41/200\n",
      "6832/6832 [==============================] - 8s 1ms/step - loss: 0.4747 - accuracy: 0.7657 - val_loss: 0.4591 - val_accuracy: 0.7725\n",
      "Epoch 42/200\n",
      "6832/6832 [==============================] - 8s 1ms/step - loss: 0.4749 - accuracy: 0.7649 - val_loss: 0.4606 - val_accuracy: 0.7738\n",
      "Epoch 43/200\n",
      "6832/6832 [==============================] - 8s 1ms/step - loss: 0.4733 - accuracy: 0.7663 - val_loss: 0.4570 - val_accuracy: 0.7743\n",
      "Epoch 44/200\n",
      "6832/6832 [==============================] - 8s 1ms/step - loss: 0.4736 - accuracy: 0.7650 - val_loss: 0.4554 - val_accuracy: 0.7750\n",
      "Epoch 45/200\n",
      "6832/6832 [==============================] - 8s 1ms/step - loss: 0.4737 - accuracy: 0.7663 - val_loss: 0.4579 - val_accuracy: 0.7737\n",
      "Epoch 46/200\n",
      "6832/6832 [==============================] - 8s 1ms/step - loss: 0.4740 - accuracy: 0.7659 - val_loss: 0.4576 - val_accuracy: 0.7750\n",
      "Epoch 47/200\n",
      "6832/6832 [==============================] - 8s 1ms/step - loss: 0.4734 - accuracy: 0.7661 - val_loss: 0.4574 - val_accuracy: 0.7741\n",
      "Epoch 48/200\n",
      "6832/6832 [==============================] - 8s 1ms/step - loss: 0.4752 - accuracy: 0.7648 - val_loss: 0.4599 - val_accuracy: 0.7734\n",
      "Epoch 49/200\n",
      "6832/6832 [==============================] - 8s 1ms/step - loss: 0.4733 - accuracy: 0.7671 - val_loss: 0.4574 - val_accuracy: 0.7749\n",
      "Epoch 50/200\n",
      "6832/6832 [==============================] - 8s 1ms/step - loss: 0.4726 - accuracy: 0.7660 - val_loss: 0.4563 - val_accuracy: 0.7750\n",
      "Epoch 51/200\n",
      "6832/6832 [==============================] - 8s 1ms/step - loss: 0.4730 - accuracy: 0.7662 - val_loss: 0.4575 - val_accuracy: 0.7753\n",
      "Epoch 52/200\n",
      "6832/6832 [==============================] - 8s 1ms/step - loss: 0.4726 - accuracy: 0.7664 - val_loss: 0.4604 - val_accuracy: 0.7750\n",
      "Epoch 53/200\n",
      "6832/6832 [==============================] - 8s 1ms/step - loss: 0.4743 - accuracy: 0.7661 - val_loss: 0.4582 - val_accuracy: 0.7747\n",
      "Epoch 54/200\n",
      "6832/6832 [==============================] - 8s 1ms/step - loss: 0.4749 - accuracy: 0.7657 - val_loss: 0.4554 - val_accuracy: 0.7742\n",
      "Epoch 55/200\n",
      "6832/6832 [==============================] - 8s 1ms/step - loss: 0.4732 - accuracy: 0.7674 - val_loss: 0.4558 - val_accuracy: 0.7746\n",
      "Epoch 56/200\n",
      "6832/6832 [==============================] - 8s 1ms/step - loss: 0.4738 - accuracy: 0.7664 - val_loss: 0.4579 - val_accuracy: 0.7746\n",
      "Epoch 57/200\n",
      "6832/6832 [==============================] - 8s 1ms/step - loss: 0.4748 - accuracy: 0.7655 - val_loss: 0.4566 - val_accuracy: 0.7749\n",
      "Epoch 58/200\n",
      "6832/6832 [==============================] - 8s 1ms/step - loss: 0.4743 - accuracy: 0.7662 - val_loss: 0.4595 - val_accuracy: 0.7747\n",
      "Epoch 59/200\n",
      "6832/6832 [==============================] - 8s 1ms/step - loss: 0.4724 - accuracy: 0.7673 - val_loss: 0.4571 - val_accuracy: 0.7741\n",
      "Epoch 60/200\n",
      "6832/6832 [==============================] - 8s 1ms/step - loss: 0.4717 - accuracy: 0.7671 - val_loss: 0.4557 - val_accuracy: 0.7739\n",
      "Epoch 61/200\n",
      "6832/6832 [==============================] - 8s 1ms/step - loss: 0.4738 - accuracy: 0.7670 - val_loss: 0.4555 - val_accuracy: 0.7753\n",
      "Epoch 62/200\n",
      "6832/6832 [==============================] - 8s 1ms/step - loss: 0.4738 - accuracy: 0.7671 - val_loss: 0.4536 - val_accuracy: 0.7748\n",
      "Epoch 63/200\n",
      "6832/6832 [==============================] - 8s 1ms/step - loss: 0.4728 - accuracy: 0.7660 - val_loss: 0.4556 - val_accuracy: 0.7743\n",
      "Epoch 64/200\n",
      "6832/6832 [==============================] - 8s 1ms/step - loss: 0.4731 - accuracy: 0.7671 - val_loss: 0.4558 - val_accuracy: 0.7731\n",
      "Epoch 65/200\n",
      "6832/6832 [==============================] - 8s 1ms/step - loss: 0.4739 - accuracy: 0.7658 - val_loss: 0.4568 - val_accuracy: 0.7725\n",
      "Epoch 66/200\n",
      "6832/6832 [==============================] - 8s 1ms/step - loss: 0.4735 - accuracy: 0.7664 - val_loss: 0.4558 - val_accuracy: 0.7742\n",
      "Epoch 67/200\n",
      "6832/6832 [==============================] - 8s 1ms/step - loss: 0.4734 - accuracy: 0.7650 - val_loss: 0.4560 - val_accuracy: 0.7752\n",
      "Epoch 68/200\n",
      "6832/6832 [==============================] - 8s 1ms/step - loss: 0.4728 - accuracy: 0.7654 - val_loss: 0.4590 - val_accuracy: 0.7745\n",
      "Epoch 69/200\n",
      "6832/6832 [==============================] - 8s 1ms/step - loss: 0.4722 - accuracy: 0.7680 - val_loss: 0.4587 - val_accuracy: 0.7729\n",
      "Epoch 70/200\n",
      "6832/6832 [==============================] - 8s 1ms/step - loss: 0.4713 - accuracy: 0.7666 - val_loss: 0.4551 - val_accuracy: 0.7747\n",
      "Epoch 71/200\n",
      "6832/6832 [==============================] - 8s 1ms/step - loss: 0.4749 - accuracy: 0.7636 - val_loss: 0.4548 - val_accuracy: 0.7737\n",
      "Epoch 72/200\n",
      "6832/6832 [==============================] - 8s 1ms/step - loss: 0.4728 - accuracy: 0.7660 - val_loss: 0.4562 - val_accuracy: 0.7745\n",
      "Epoch 73/200\n",
      "6832/6832 [==============================] - 8s 1ms/step - loss: 0.4714 - accuracy: 0.7675 - val_loss: 0.4573 - val_accuracy: 0.7740\n",
      "Epoch 74/200\n",
      "6832/6832 [==============================] - 8s 1ms/step - loss: 0.4709 - accuracy: 0.7677 - val_loss: 0.4549 - val_accuracy: 0.7744\n",
      "Epoch 75/200\n",
      "6832/6832 [==============================] - 8s 1ms/step - loss: 0.4711 - accuracy: 0.7676 - val_loss: 0.4629 - val_accuracy: 0.7737\n",
      "Epoch 76/200\n",
      "6832/6832 [==============================] - 8s 1ms/step - loss: 0.4715 - accuracy: 0.7677 - val_loss: 0.4590 - val_accuracy: 0.7746\n",
      "Epoch 77/200\n",
      "6832/6832 [==============================] - 8s 1ms/step - loss: 0.4718 - accuracy: 0.7673 - val_loss: 0.4564 - val_accuracy: 0.7745\n",
      "Epoch 78/200\n",
      "6832/6832 [==============================] - 8s 1ms/step - loss: 0.4730 - accuracy: 0.7668 - val_loss: 0.4563 - val_accuracy: 0.7741\n",
      "Epoch 79/200\n",
      "6832/6832 [==============================] - 8s 1ms/step - loss: 0.4716 - accuracy: 0.7686 - val_loss: 0.4575 - val_accuracy: 0.7742\n",
      "Epoch 80/200\n",
      "6832/6832 [==============================] - 8s 1ms/step - loss: 0.4715 - accuracy: 0.7670 - val_loss: 0.4551 - val_accuracy: 0.7756\n",
      "Epoch 81/200\n",
      "6832/6832 [==============================] - 8s 1ms/step - loss: 0.4709 - accuracy: 0.7683 - val_loss: 0.4554 - val_accuracy: 0.7749\n",
      "Epoch 82/200\n",
      "6832/6832 [==============================] - 8s 1ms/step - loss: 0.4717 - accuracy: 0.7665 - val_loss: 0.4620 - val_accuracy: 0.7728\n",
      "Epoch 83/200\n",
      "6832/6832 [==============================] - 8s 1ms/step - loss: 0.4715 - accuracy: 0.7670 - val_loss: 0.4588 - val_accuracy: 0.7739\n",
      "Epoch 84/200\n",
      "6832/6832 [==============================] - 8s 1ms/step - loss: 0.4721 - accuracy: 0.7680 - val_loss: 0.4610 - val_accuracy: 0.7737\n",
      "Epoch 85/200\n",
      "6832/6832 [==============================] - 8s 1ms/step - loss: 0.4722 - accuracy: 0.7675 - val_loss: 0.4586 - val_accuracy: 0.7746\n",
      "Epoch 86/200\n",
      "6832/6832 [==============================] - 8s 1ms/step - loss: 0.4719 - accuracy: 0.7681 - val_loss: 0.4579 - val_accuracy: 0.7734\n",
      "Epoch 87/200\n",
      "6832/6832 [==============================] - 8s 1ms/step - loss: 0.4709 - accuracy: 0.7669 - val_loss: 0.4604 - val_accuracy: 0.7734\n",
      "Epoch 88/200\n",
      "6832/6832 [==============================] - 8s 1ms/step - loss: 0.4730 - accuracy: 0.7673 - val_loss: 0.4604 - val_accuracy: 0.7740\n",
      "Epoch 89/200\n",
      "6832/6832 [==============================] - 8s 1ms/step - loss: 0.4715 - accuracy: 0.7694 - val_loss: 0.4641 - val_accuracy: 0.7724\n",
      "Epoch 90/200\n",
      "6832/6832 [==============================] - 8s 1ms/step - loss: 0.4717 - accuracy: 0.7669 - val_loss: 0.5135 - val_accuracy: 0.7727\n",
      "Epoch 91/200\n",
      "6832/6832 [==============================] - 8s 1ms/step - loss: 0.4723 - accuracy: 0.7677 - val_loss: 0.4667 - val_accuracy: 0.7742\n",
      "Epoch 92/200\n",
      "6832/6832 [==============================] - 8s 1ms/step - loss: 0.4705 - accuracy: 0.7684 - val_loss: 0.4595 - val_accuracy: 0.7740\n",
      "Epoch 93/200\n",
      "6832/6832 [==============================] - 8s 1ms/step - loss: 0.4709 - accuracy: 0.7680 - val_loss: 0.4563 - val_accuracy: 0.7746\n",
      "Epoch 94/200\n",
      "6832/6832 [==============================] - 8s 1ms/step - loss: 0.4705 - accuracy: 0.7686 - val_loss: 0.4630 - val_accuracy: 0.7745\n",
      "Epoch 95/200\n",
      "6832/6832 [==============================] - 8s 1ms/step - loss: 0.4704 - accuracy: 0.7690 - val_loss: 0.4641 - val_accuracy: 0.7757\n",
      "Epoch 96/200\n",
      "6832/6832 [==============================] - 8s 1ms/step - loss: 0.4704 - accuracy: 0.7690 - val_loss: 0.4703 - val_accuracy: 0.7741\n",
      "Epoch 97/200\n",
      "6832/6832 [==============================] - 8s 1ms/step - loss: 0.4697 - accuracy: 0.7700 - val_loss: 0.4628 - val_accuracy: 0.7746\n",
      "Epoch 98/200\n",
      "6832/6832 [==============================] - 8s 1ms/step - loss: 0.4709 - accuracy: 0.7699 - val_loss: 0.4835 - val_accuracy: 0.7743\n",
      "Epoch 99/200\n",
      "6832/6832 [==============================] - 8s 1ms/step - loss: 0.4704 - accuracy: 0.7699 - val_loss: 0.4671 - val_accuracy: 0.7743\n",
      "Epoch 100/200\n",
      "6832/6832 [==============================] - 8s 1ms/step - loss: 0.4697 - accuracy: 0.7689 - val_loss: 0.4609 - val_accuracy: 0.7742\n",
      "Epoch 101/200\n",
      "6832/6832 [==============================] - 8s 1ms/step - loss: 0.4714 - accuracy: 0.7667 - val_loss: 0.4872 - val_accuracy: 0.7739\n",
      "Epoch 102/200\n",
      "6832/6832 [==============================] - 8s 1ms/step - loss: 0.4705 - accuracy: 0.7688 - val_loss: 0.4639 - val_accuracy: 0.7749\n",
      "Epoch 103/200\n",
      "6832/6832 [==============================] - 8s 1ms/step - loss: 0.4692 - accuracy: 0.7682 - val_loss: 0.4807 - val_accuracy: 0.7735\n",
      "Epoch 104/200\n",
      "6832/6832 [==============================] - 8s 1ms/step - loss: 0.4690 - accuracy: 0.7696 - val_loss: 0.4880 - val_accuracy: 0.7741\n",
      "Epoch 105/200\n",
      "6832/6832 [==============================] - 8s 1ms/step - loss: 0.4689 - accuracy: 0.7702 - val_loss: 0.4672 - val_accuracy: 0.7739\n",
      "Epoch 106/200\n",
      "6832/6832 [==============================] - 8s 1ms/step - loss: 0.4698 - accuracy: 0.7699 - val_loss: 0.4637 - val_accuracy: 0.7739\n",
      "Epoch 107/200\n",
      "6832/6832 [==============================] - 8s 1ms/step - loss: 0.4698 - accuracy: 0.7685 - val_loss: 0.4622 - val_accuracy: 0.7732\n",
      "Epoch 108/200\n",
      "6832/6832 [==============================] - 8s 1ms/step - loss: 0.4712 - accuracy: 0.7688 - val_loss: 0.4715 - val_accuracy: 0.7742\n",
      "Epoch 109/200\n",
      "6832/6832 [==============================] - 8s 1ms/step - loss: 0.4705 - accuracy: 0.7667 - val_loss: 0.4688 - val_accuracy: 0.7735\n",
      "Epoch 110/200\n",
      "6832/6832 [==============================] - 8s 1ms/step - loss: 0.4690 - accuracy: 0.7695 - val_loss: 0.4613 - val_accuracy: 0.7747\n",
      "Epoch 111/200\n",
      "6832/6832 [==============================] - 8s 1ms/step - loss: 0.4687 - accuracy: 0.7704 - val_loss: 0.4619 - val_accuracy: 0.7754\n",
      "Epoch 112/200\n",
      "6832/6832 [==============================] - 8s 1ms/step - loss: 0.4696 - accuracy: 0.7682 - val_loss: 0.4959 - val_accuracy: 0.7736\n",
      "Epoch 113/200\n",
      "6832/6832 [==============================] - 8s 1ms/step - loss: 0.4689 - accuracy: 0.7695 - val_loss: 0.4551 - val_accuracy: 0.7753\n",
      "Epoch 114/200\n",
      "6832/6832 [==============================] - 8s 1ms/step - loss: 0.4696 - accuracy: 0.7696 - val_loss: 0.4615 - val_accuracy: 0.7741\n",
      "Epoch 115/200\n",
      "6832/6832 [==============================] - 8s 1ms/step - loss: 0.4685 - accuracy: 0.7701 - val_loss: 0.4563 - val_accuracy: 0.7747\n",
      "Epoch 116/200\n",
      "6832/6832 [==============================] - 8s 1ms/step - loss: 0.4704 - accuracy: 0.7691 - val_loss: 0.4601 - val_accuracy: 0.7751\n",
      "Epoch 117/200\n",
      "6832/6832 [==============================] - 8s 1ms/step - loss: 0.4684 - accuracy: 0.7696 - val_loss: 0.4699 - val_accuracy: 0.7739\n",
      "Epoch 118/200\n",
      "6832/6832 [==============================] - 8s 1ms/step - loss: 0.4700 - accuracy: 0.7675 - val_loss: 0.5441 - val_accuracy: 0.7735\n",
      "Epoch 119/200\n",
      "6832/6832 [==============================] - 8s 1ms/step - loss: 0.4702 - accuracy: 0.7704 - val_loss: 0.4629 - val_accuracy: 0.7735\n",
      "Epoch 120/200\n",
      "6832/6832 [==============================] - 8s 1ms/step - loss: 0.4697 - accuracy: 0.7689 - val_loss: 0.5262 - val_accuracy: 0.7742\n",
      "Epoch 121/200\n",
      "6832/6832 [==============================] - 8s 1ms/step - loss: 0.4696 - accuracy: 0.7681 - val_loss: 0.4860 - val_accuracy: 0.7750\n",
      "Epoch 122/200\n",
      "6832/6832 [==============================] - 8s 1ms/step - loss: 0.4712 - accuracy: 0.7682 - val_loss: 0.7259 - val_accuracy: 0.7735\n",
      "Epoch 123/200\n",
      "6832/6832 [==============================] - 8s 1ms/step - loss: 0.4697 - accuracy: 0.7686 - val_loss: 0.4743 - val_accuracy: 0.7738\n",
      "Epoch 124/200\n",
      "6832/6832 [==============================] - 8s 1ms/step - loss: 0.4703 - accuracy: 0.7674 - val_loss: 0.4607 - val_accuracy: 0.7749\n",
      "Epoch 125/200\n",
      "6832/6832 [==============================] - 8s 1ms/step - loss: 0.4685 - accuracy: 0.7684 - val_loss: 0.4757 - val_accuracy: 0.7752\n",
      "Epoch 126/200\n",
      "6832/6832 [==============================] - 8s 1ms/step - loss: 0.4694 - accuracy: 0.7683 - val_loss: 0.4592 - val_accuracy: 0.7741\n",
      "Epoch 127/200\n",
      "6832/6832 [==============================] - 8s 1ms/step - loss: 0.4679 - accuracy: 0.7687 - val_loss: 0.4583 - val_accuracy: 0.7736\n",
      "Epoch 128/200\n",
      "6832/6832 [==============================] - 8s 1ms/step - loss: 0.4681 - accuracy: 0.7720 - val_loss: 0.4671 - val_accuracy: 0.7737\n",
      "Epoch 129/200\n",
      "6832/6832 [==============================] - 7s 1ms/step - loss: 0.4692 - accuracy: 0.7702 - val_loss: 0.4752 - val_accuracy: 0.7750\n",
      "Epoch 130/200\n",
      "6832/6832 [==============================] - 8s 1ms/step - loss: 0.4677 - accuracy: 0.7693 - val_loss: 0.4751 - val_accuracy: 0.7741\n",
      "Epoch 131/200\n",
      "6832/6832 [==============================] - 8s 1ms/step - loss: 0.4697 - accuracy: 0.7691 - val_loss: 0.4614 - val_accuracy: 0.7733\n",
      "Epoch 132/200\n",
      "6832/6832 [==============================] - 7s 1ms/step - loss: 0.4695 - accuracy: 0.7689 - val_loss: 0.4588 - val_accuracy: 0.7735\n",
      "Epoch 133/200\n",
      "6832/6832 [==============================] - 8s 1ms/step - loss: 0.4690 - accuracy: 0.7694 - val_loss: 0.4643 - val_accuracy: 0.7740\n",
      "Epoch 134/200\n",
      "6832/6832 [==============================] - 8s 1ms/step - loss: 0.4675 - accuracy: 0.7703 - val_loss: 0.4918 - val_accuracy: 0.7731\n",
      "Epoch 135/200\n",
      "6832/6832 [==============================] - 7s 1ms/step - loss: 0.4690 - accuracy: 0.7699 - val_loss: 0.5735 - val_accuracy: 0.7737\n",
      "Epoch 136/200\n",
      "6832/6832 [==============================] - 7s 1ms/step - loss: 0.4691 - accuracy: 0.7687 - val_loss: 0.4616 - val_accuracy: 0.7738\n",
      "Epoch 137/200\n",
      "6832/6832 [==============================] - 8s 1ms/step - loss: 0.4685 - accuracy: 0.7708 - val_loss: 0.4585 - val_accuracy: 0.7733\n",
      "Epoch 138/200\n",
      "6832/6832 [==============================] - 8s 1ms/step - loss: 0.4686 - accuracy: 0.7699 - val_loss: 0.4681 - val_accuracy: 0.7732\n",
      "Epoch 139/200\n",
      "6832/6832 [==============================] - 8s 1ms/step - loss: 0.4675 - accuracy: 0.7705 - val_loss: 0.4728 - val_accuracy: 0.7726\n",
      "Epoch 140/200\n",
      "6832/6832 [==============================] - 8s 1ms/step - loss: 0.4678 - accuracy: 0.7714 - val_loss: 0.4603 - val_accuracy: 0.7748\n",
      "Epoch 141/200\n",
      "6832/6832 [==============================] - 8s 1ms/step - loss: 0.4689 - accuracy: 0.7698 - val_loss: 0.4831 - val_accuracy: 0.7733\n",
      "Epoch 142/200\n",
      "6832/6832 [==============================] - 8s 1ms/step - loss: 0.4694 - accuracy: 0.7710 - val_loss: 0.4621 - val_accuracy: 0.7746\n",
      "Epoch 143/200\n",
      "6832/6832 [==============================] - 8s 1ms/step - loss: 0.4675 - accuracy: 0.7705 - val_loss: 0.4893 - val_accuracy: 0.7730\n",
      "Epoch 144/200\n",
      "6832/6832 [==============================] - 8s 1ms/step - loss: 0.4684 - accuracy: 0.7704 - val_loss: 0.4568 - val_accuracy: 0.7729\n",
      "Epoch 145/200\n",
      "6832/6832 [==============================] - 8s 1ms/step - loss: 0.4687 - accuracy: 0.7701 - val_loss: 0.4706 - val_accuracy: 0.7736\n",
      "Epoch 146/200\n",
      "6832/6832 [==============================] - 8s 1ms/step - loss: 0.4682 - accuracy: 0.7689 - val_loss: 0.6102 - val_accuracy: 0.7738\n",
      "Epoch 147/200\n",
      "6832/6832 [==============================] - 8s 1ms/step - loss: 0.4685 - accuracy: 0.7705 - val_loss: 0.4592 - val_accuracy: 0.7735\n",
      "Epoch 148/200\n",
      "6832/6832 [==============================] - 8s 1ms/step - loss: 0.4697 - accuracy: 0.7700 - val_loss: 0.4766 - val_accuracy: 0.7742\n",
      "Epoch 149/200\n",
      "6832/6832 [==============================] - 8s 1ms/step - loss: 0.4679 - accuracy: 0.7704 - val_loss: 0.4638 - val_accuracy: 0.7747\n",
      "Epoch 150/200\n",
      "6832/6832 [==============================] - 8s 1ms/step - loss: 0.4685 - accuracy: 0.7705 - val_loss: 0.4616 - val_accuracy: 0.7753\n",
      "Epoch 151/200\n",
      "6832/6832 [==============================] - 8s 1ms/step - loss: 0.4678 - accuracy: 0.7715 - val_loss: 0.4597 - val_accuracy: 0.7742\n",
      "Epoch 152/200\n",
      "6832/6832 [==============================] - 8s 1ms/step - loss: 0.4692 - accuracy: 0.7702 - val_loss: 0.4677 - val_accuracy: 0.7731\n",
      "Epoch 153/200\n",
      "6832/6832 [==============================] - 8s 1ms/step - loss: 0.4667 - accuracy: 0.7709 - val_loss: 0.4870 - val_accuracy: 0.7746\n",
      "Epoch 154/200\n",
      "6832/6832 [==============================] - 9s 1ms/step - loss: 0.4677 - accuracy: 0.7706 - val_loss: 0.4683 - val_accuracy: 0.7740\n",
      "Epoch 155/200\n",
      "6832/6832 [==============================] - 9s 1ms/step - loss: 0.4678 - accuracy: 0.7711 - val_loss: 0.4629 - val_accuracy: 0.7732\n",
      "Epoch 156/200\n",
      "6832/6832 [==============================] - 9s 1ms/step - loss: 0.4690 - accuracy: 0.7691 - val_loss: 0.4587 - val_accuracy: 0.7749\n",
      "Epoch 157/200\n",
      "6832/6832 [==============================] - 8s 1ms/step - loss: 0.4680 - accuracy: 0.7702 - val_loss: 0.4595 - val_accuracy: 0.7737\n",
      "Epoch 158/200\n",
      "6832/6832 [==============================] - 9s 1ms/step - loss: 0.4688 - accuracy: 0.7706 - val_loss: 0.4712 - val_accuracy: 0.7738\n",
      "Epoch 159/200\n",
      "6832/6832 [==============================] - 8s 1ms/step - loss: 0.4687 - accuracy: 0.7710 - val_loss: 0.4639 - val_accuracy: 0.7747\n",
      "Epoch 160/200\n",
      "6832/6832 [==============================] - 8s 1ms/step - loss: 0.4693 - accuracy: 0.7693 - val_loss: 0.4586 - val_accuracy: 0.7759\n",
      "Epoch 161/200\n",
      "6832/6832 [==============================] - 9s 1ms/step - loss: 0.4669 - accuracy: 0.7702 - val_loss: 0.4708 - val_accuracy: 0.7728\n",
      "Epoch 162/200\n",
      "6832/6832 [==============================] - 9s 1ms/step - loss: 0.4677 - accuracy: 0.7704 - val_loss: 0.4726 - val_accuracy: 0.7744\n",
      "Epoch 163/200\n",
      "6832/6832 [==============================] - 9s 1ms/step - loss: 0.4676 - accuracy: 0.7727 - val_loss: 0.4652 - val_accuracy: 0.7728\n",
      "Epoch 164/200\n",
      "6832/6832 [==============================] - 9s 1ms/step - loss: 0.4687 - accuracy: 0.7701 - val_loss: 0.4605 - val_accuracy: 0.7739\n",
      "Epoch 165/200\n",
      "6832/6832 [==============================] - 9s 1ms/step - loss: 0.4670 - accuracy: 0.7706 - val_loss: 0.4602 - val_accuracy: 0.7730\n",
      "Epoch 166/200\n",
      "6832/6832 [==============================] - 9s 1ms/step - loss: 0.4686 - accuracy: 0.7701 - val_loss: 0.4592 - val_accuracy: 0.7727\n",
      "Epoch 167/200\n",
      "6832/6832 [==============================] - 9s 1ms/step - loss: 0.4682 - accuracy: 0.7703 - val_loss: 0.4697 - val_accuracy: 0.7714\n",
      "Epoch 168/200\n",
      "6832/6832 [==============================] - 9s 1ms/step - loss: 0.4689 - accuracy: 0.7713 - val_loss: 0.4720 - val_accuracy: 0.7730\n",
      "Epoch 169/200\n",
      "6832/6832 [==============================] - 9s 1ms/step - loss: 0.4692 - accuracy: 0.7704 - val_loss: 0.4715 - val_accuracy: 0.7730\n",
      "Epoch 170/200\n",
      "6832/6832 [==============================] - 9s 1ms/step - loss: 0.4687 - accuracy: 0.7709 - val_loss: 0.4931 - val_accuracy: 0.7743\n",
      "Epoch 171/200\n",
      "6832/6832 [==============================] - 8s 1ms/step - loss: 0.4687 - accuracy: 0.7707 - val_loss: 0.4585 - val_accuracy: 0.7746\n",
      "Epoch 172/200\n",
      "6832/6832 [==============================] - 8s 1ms/step - loss: 0.4681 - accuracy: 0.7675 - val_loss: 0.5685 - val_accuracy: 0.7739\n",
      "Epoch 173/200\n",
      "6832/6832 [==============================] - 8s 1ms/step - loss: 0.4685 - accuracy: 0.7708 - val_loss: 0.4627 - val_accuracy: 0.7736\n",
      "Epoch 174/200\n",
      "6832/6832 [==============================] - 8s 1ms/step - loss: 0.4676 - accuracy: 0.7705 - val_loss: 0.4619 - val_accuracy: 0.7740\n",
      "Epoch 175/200\n",
      "6832/6832 [==============================] - 8s 1ms/step - loss: 0.4677 - accuracy: 0.7696 - val_loss: 0.4717 - val_accuracy: 0.7748\n",
      "Epoch 176/200\n",
      "6832/6832 [==============================] - 8s 1ms/step - loss: 0.4675 - accuracy: 0.7704 - val_loss: 0.4615 - val_accuracy: 0.7736\n",
      "Epoch 177/200\n",
      "6832/6832 [==============================] - 8s 1ms/step - loss: 0.4672 - accuracy: 0.7694 - val_loss: 0.4739 - val_accuracy: 0.7741\n",
      "Epoch 178/200\n",
      "6832/6832 [==============================] - 8s 1ms/step - loss: 0.4675 - accuracy: 0.7709 - val_loss: 0.4676 - val_accuracy: 0.7738\n",
      "Epoch 179/200\n",
      "6832/6832 [==============================] - 8s 1ms/step - loss: 0.4667 - accuracy: 0.7707 - val_loss: 0.4808 - val_accuracy: 0.7730\n",
      "Epoch 180/200\n",
      "6832/6832 [==============================] - 9s 1ms/step - loss: 0.4675 - accuracy: 0.7720 - val_loss: 0.4846 - val_accuracy: 0.7752\n",
      "Epoch 181/200\n",
      "6832/6832 [==============================] - 8s 1ms/step - loss: 0.4670 - accuracy: 0.7714 - val_loss: 0.4674 - val_accuracy: 0.7737\n",
      "Epoch 182/200\n",
      "6832/6832 [==============================] - 8s 1ms/step - loss: 0.4679 - accuracy: 0.7696 - val_loss: 0.5212 - val_accuracy: 0.7705\n",
      "Epoch 183/200\n",
      "6832/6832 [==============================] - 8s 1ms/step - loss: 0.4687 - accuracy: 0.7698 - val_loss: 0.4859 - val_accuracy: 0.7754\n",
      "Epoch 184/200\n",
      "6832/6832 [==============================] - 9s 1ms/step - loss: 0.4677 - accuracy: 0.7710 - val_loss: 0.5083 - val_accuracy: 0.7742\n",
      "Epoch 185/200\n",
      "6832/6832 [==============================] - 8s 1ms/step - loss: 0.4663 - accuracy: 0.7715 - val_loss: 0.4638 - val_accuracy: 0.7751\n",
      "Epoch 186/200\n",
      "6832/6832 [==============================] - 8s 1ms/step - loss: 0.4663 - accuracy: 0.7702 - val_loss: 0.4639 - val_accuracy: 0.7745\n",
      "Epoch 187/200\n",
      "6832/6832 [==============================] - 8s 1ms/step - loss: 0.4657 - accuracy: 0.7719 - val_loss: 0.4598 - val_accuracy: 0.7743\n",
      "Epoch 188/200\n",
      "6832/6832 [==============================] - 9s 1ms/step - loss: 0.4693 - accuracy: 0.7686 - val_loss: 0.6229 - val_accuracy: 0.7726\n",
      "Epoch 189/200\n",
      "6832/6832 [==============================] - 9s 1ms/step - loss: 0.4690 - accuracy: 0.7700 - val_loss: 0.4799 - val_accuracy: 0.7729\n",
      "Epoch 190/200\n",
      "6832/6832 [==============================] - 9s 1ms/step - loss: 0.4692 - accuracy: 0.7705 - val_loss: 0.4604 - val_accuracy: 0.7733\n",
      "Epoch 191/200\n",
      "6832/6832 [==============================] - 9s 1ms/step - loss: 0.4682 - accuracy: 0.7721 - val_loss: 0.4613 - val_accuracy: 0.7726\n",
      "Epoch 192/200\n",
      "6832/6832 [==============================] - 9s 1ms/step - loss: 0.4664 - accuracy: 0.7719 - val_loss: 0.4589 - val_accuracy: 0.7725\n",
      "Epoch 193/200\n",
      "6832/6832 [==============================] - 9s 1ms/step - loss: 0.4678 - accuracy: 0.7711 - val_loss: 0.4612 - val_accuracy: 0.7726\n",
      "Epoch 194/200\n",
      "6832/6832 [==============================] - 9s 1ms/step - loss: 0.4667 - accuracy: 0.7717 - val_loss: 0.4599 - val_accuracy: 0.7740\n",
      "Epoch 195/200\n",
      "6832/6832 [==============================] - 9s 1ms/step - loss: 0.4663 - accuracy: 0.7729 - val_loss: 0.4578 - val_accuracy: 0.7750\n",
      "Epoch 196/200\n",
      "6832/6832 [==============================] - 9s 1ms/step - loss: 0.4667 - accuracy: 0.7714 - val_loss: 0.4666 - val_accuracy: 0.7726\n",
      "Epoch 197/200\n",
      "6832/6832 [==============================] - 9s 1ms/step - loss: 0.4666 - accuracy: 0.7706 - val_loss: 0.4696 - val_accuracy: 0.7729\n",
      "Epoch 198/200\n",
      "6832/6832 [==============================] - 9s 1ms/step - loss: 0.4665 - accuracy: 0.7717 - val_loss: 0.4648 - val_accuracy: 0.7730\n",
      "Epoch 199/200\n",
      "6832/6832 [==============================] - 9s 1ms/step - loss: 0.4677 - accuracy: 0.7692 - val_loss: 0.4777 - val_accuracy: 0.7735\n",
      "Epoch 200/200\n",
      "6832/6832 [==============================] - 9s 1ms/step - loss: 0.4680 - accuracy: 0.7710 - val_loss: 0.4606 - val_accuracy: 0.7734\n"
     ]
    }
   ],
   "source": [
    "model = keras.Sequential()\n",
    "model.add(layers.Input(shape=(X_train.shape[1],)))\n",
    "model.add(layers.Dense(units=526, activation='relu'))\n",
    "model.add(layers.Dropout(0.2))\n",
    "model.add(layers.BatchNormalization())\n",
    "model.add(layers.Flatten())\n",
    "model.add(layers.Dense(units=128, activation='relu'))\n",
    "model.add(layers.Dropout(0.2))\n",
    "model.add(layers.BatchNormalization())\n",
    "model.add(layers.Dense(units=32, activation='relu'))\n",
    "model.add(layers.Dropout(best_hps.get('dropout')))\n",
    "model.add(layers.BatchNormalization())\n",
    "model.add(layers.Dense(1, activation='sigmoid'))\n",
    "lr = best_hps.get('learning_rate')\n",
    "model.compile(optimizer=keras.optimizers.Adam(learning_rate=lr),\n",
    "              loss='binary_crossentropy',\n",
    "              metrics=['accuracy'])\n",
    "history = model.fit(X_train, y_train, epochs=200, validation_data=(X_test, y_test), batch_size=16)"
   ]
  },
  {
   "cell_type": "code",
   "execution_count": 43,
   "metadata": {},
   "outputs": [
    {
     "data": {
      "text/plain": [
       "Text(0.5, 0, 'Epoch')"
      ]
     },
     "execution_count": 43,
     "metadata": {},
     "output_type": "execute_result"
    },
    {
     "data": {
      "image/png": "[encoded data removed]",
      "text/plain": [
       "<Figure size 640x480 with 1 Axes>"
      ]
     },
     "metadata": {},
     "output_type": "display_data"
    }
   ],
   "source": [
    "# Plot training & validation accuracy values\n",
    "plt.plot(history.history['accuracy'])\n",
    "plt.plot(history.history['val_accuracy'])\n",
    "plt.legend(['Train', 'Test'], loc='right')\n",
    "plt.title('Model accuracy with best hyperparameters')\n",
    "plt.ylabel('Accuracy')\n",
    "plt.xlabel('Epoch')"
   ]
  },
  {
   "cell_type": "code",
   "execution_count": null,
   "metadata": {},
   "outputs": [],
   "source": [
    "gpt_model = keras.Sequential()\n",
    "model = keras.Sequential([\n",
    "    keras.Dense(128, activation='relu', input_shape=(X_train.shape[1],)),\n",
    "    keras.Dense(64, activation='relu'),\n",
    "    keras.Dense(32, activation='relu'),\n",
    "    keras.Dense(1, activation='sigmoid')\n",
    "])\n",
    "\n"
   ]
  },
  {
   "cell_type": "markdown",
   "metadata": {},
   "source": [
    "### Définition du modèle \n",
    "avec prise d'un nombre de couches et nombre de neurones variables "
   ]
  },
  {
   "cell_type": "markdown",
   "metadata": {},
   "source": [
    "### 4. Entrainement du modèle (Model training)"
   ]
  },
  {
   "cell_type": "markdown",
   "metadata": {},
   "source": [
    "### 5. Evaluation des performances du modèle \n"
   ]
  },
  {
   "cell_type": "code",
   "execution_count": null,
   "metadata": {
    "tags": []
   },
   "outputs": [],
   "source": [
    "def visualiser_confusion(model, X_test, y_test):\n",
    "    y_pred = model.predict(X_test)\n",
    "    # Get class labels\n",
    "    y_classes = np.argmax(y_pred, axis=-1)\n",
    "\n",
    "    cm = confusion_matrix(y_test, y_classes)\n",
    "    #disp= ConfusionMatrixDisplay(confusion_matrix=cm)\n",
    "\n",
    "    sns.heatmap(cm, annot=True, annot_kws={\"size\": 12}) # font size\n",
    "    plt.show()\n"
   ]
  },
  {
   "cell_type": "markdown",
   "metadata": {},
   "source": [
    "### Main program"
   ]
  },
  {
   "cell_type": "code",
   "execution_count": null,
   "metadata": {
    "tags": []
   },
   "outputs": [],
   "source": [
    "# Préparation ds données\n",
    "# le -1 du load_data(-1) veut dire on prend toutes les lignes \n",
    "data=load_data(-1)\n",
    "# sélectionner les variables\n",
    "X,y = select_variables(data)\n",
    "X_train, X_test, y_train, y_test = split_data(X,y)\n",
    "X_train, X_test = normaliser(X_train, X_test)\n"
   ]
  },
  {
   "cell_type": "code",
   "execution_count": null,
   "metadata": {
    "tags": []
   },
   "outputs": [],
   "source": [
    "\n"
   ]
  },
  {
   "cell_type": "markdown",
   "metadata": {},
   "source": [
    "#### Afficher les paramètres du meilleur modèle"
   ]
  },
  {
   "cell_type": "code",
   "execution_count": null,
   "metadata": {
    "tags": []
   },
   "outputs": [],
   "source": [
    "best_param_model"
   ]
  },
  {
   "cell_type": "code",
   "execution_count": null,
   "metadata": {
    "tags": []
   },
   "outputs": [],
   "source": [
    "best_param_model[\"#layers\"]"
   ]
  },
  {
   "cell_type": "markdown",
   "metadata": {
    "tags": []
   },
   "source": [
    "#### Play with the best model"
   ]
  },
  {
   "cell_type": "code",
   "execution_count": null,
   "metadata": {
    "tags": []
   },
   "outputs": [],
   "source": [
    "## sur les données de Text (X_test, y_test)\n",
    "\n",
    "score = evaluer(model, X_test, y_test)\n",
    "print('Test loss     :', score[0])\n",
    "print('Test accuracy :', score[1])"
   ]
  },
  {
   "cell_type": "code",
   "execution_count": null,
   "metadata": {
    "tags": []
   },
   "outputs": [],
   "source": [
    "print('Test loss     :', score[0])\n",
    "print('Test accuracy :', score[1])"
   ]
  }
 ],
 "metadata": {
  "kernelspec": {
   "display_name": "Python 3 (ipykernel)",
   "language": "python",
   "name": "python3"
  },
  "language_info": {
   "codemirror_mode": {
    "name": "ipython",
    "version": 3
   },
   "file_extension": ".py",
   "mimetype": "text/x-python",
   "name": "python",
   "nbconvert_exporter": "python",
   "pygments_lexer": "ipython3",
   "version": "3.11.6"
  }
 },
 "nbformat": 4,
 "nbformat_minor": 4
}
