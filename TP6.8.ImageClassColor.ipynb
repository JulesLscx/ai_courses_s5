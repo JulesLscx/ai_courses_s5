{
 "cells": [
  {
   "cell_type": "markdown",
   "metadata": {},
   "source": [
    "#  TP 6.8 Classification d'images Couleur\n",
    "L'objectif des TPS 7.7 et 6.8 est de travailler sur des données de type images.</br>\n",
    "Il existe un grands nombre de datasets pour la classification d'images :\n",
    "image noir et blanc(différents niveaux de gris) ou couleur.\n",
    "Les images sont représentées sous formes de matrices :\n",
    "- une image noire et blanc est représentée sous forme d'une matrice (X,Y), \n",
    "- une image couleur est un tensor (X,Y,3), 3 correspond à(RGB)\n",
    "- les valeurs dans les matrices sont comprises entre 0 et 255.</br>\n",
    "\n",
    "Pour le modèle de neurones, nous prenons un DNN, réseau à couches, MAIS, ces modèles ne sont pas les plus appropriés pour traiter les images.\n",
    "Les meilleurs modèles sont, les CNN (Convolutional Neural Network) (les modèles à convolution). \n"
   ]
  },
  {
   "cell_type": "code",
   "execution_count": 1,
   "metadata": {
    "tags": []
   },
   "outputs": [
    {
     "name": "stdout",
     "output_type": "stream",
     "text": [
      "WARNING:tensorflow:From C:\\Users\\jules\\AppData\\Local\\Packages\\PythonSoftwareFoundation.Python.3.10_qbz5n2kfra8p0\\LocalCache\\local-packages\\Python310\\site-packages\\keras\\src\\losses.py:2976: The name tf.losses.sparse_softmax_cross_entropy is deprecated. Please use tf.compat.v1.losses.sparse_softmax_cross_entropy instead.\n",
      "\n"
     ]
    }
   ],
   "source": [
    "import tensorflow as tf\n",
    "from tensorflow import keras\n",
    "import matplotlib.pyplot as plt\n",
    "import keras_tuner as kt  ## le keras tuner \n",
    "\n",
    "from sklearn.model_selection import train_test_split\n",
    "import matplotlib.pyplot as plt\n",
    "from tensorflow.keras.preprocessing.image import load_img, img_to_array\n",
    "\n",
    "import pandas as pd\n",
    "import numpy as np\n"
   ]
  },
  {
   "cell_type": "markdown",
   "metadata": {
    "tags": []
   },
   "source": [
    "## Lecture des données\n",
    "Keras (tensoflow) propose des datasets, il suffit donc de lire le dataset "
   ]
  },
  {
   "cell_type": "code",
   "execution_count": 2,
   "metadata": {
    "tags": []
   },
   "outputs": [
    {
     "name": "stdout",
     "output_type": "stream",
     "text": [
      "Downloading data from https://www.cs.toronto.edu/~kriz/cifar-10-python.tar.gz\n",
      "170498071/170498071 [==============================] - 47s 0us/step\n"
     ]
    }
   ],
   "source": [
    "(X_train, y_train), (X_test, y_test) = tf.keras.datasets.cifar10.load_data()"
   ]
  },
  {
   "cell_type": "code",
   "execution_count": 3,
   "metadata": {
    "tags": []
   },
   "outputs": [
    {
     "data": {
      "image/png": "[encoded data removed]",
      "text/plain": [
       "<Figure size 1000x1000 with 3 Axes>"
      ]
     },
     "metadata": {},
     "output_type": "display_data"
    }
   ],
   "source": [
    "def show_images(images,n):\n",
    "    plt.figure(figsize=(10, 10))\n",
    "    for i in range(n):\n",
    "        plt.subplot(6, 6, i + 1)\n",
    "        plt.imshow(images[i])\n",
    "        \n",
    "    plt.show()\n",
    "    \n",
    "show_images(X_train,3)"
   ]
  },
  {
   "cell_type": "markdown",
   "metadata": {},
   "source": [
    "### Afficher ?\n",
    "- les tailles des X train et Y_train\n",
    "- le type de label, la lists les différents labels à prédire \n",
    "- La taille de chaque image"
   ]
  },
  {
   "cell_type": "code",
   "execution_count": 5,
   "metadata": {
    "tags": []
   },
   "outputs": [
    {
     "data": {
      "text/plain": [
       "(50000, 10000, array([0, 1, 2, 3, 4, 5, 6, 7, 8, 9], dtype=uint8))"
      ]
     },
     "execution_count": 5,
     "metadata": {},
     "output_type": "execute_result"
    }
   ],
   "source": [
    "X_train.shape[0], X_test.shape[0], np.unique(y_train)\n"
   ]
  },
  {
   "cell_type": "markdown",
   "metadata": {},
   "source": [
    "### Une façon simple de normaliser :\n",
    "divider juste par le Max des valeurs (ici 255)"
   ]
  },
  {
   "cell_type": "code",
   "execution_count": 6,
   "metadata": {
    "tags": []
   },
   "outputs": [
    {
     "name": "stdout",
     "output_type": "stream",
     "text": [
      "Before normalization : Min=0, max=255\n",
      "After normalization  : Min=0.0, max=1.0\n"
     ]
    }
   ],
   "source": [
    "## On peut utiliser une simple normalisation (x-mu)/ecart type)\n",
    "print('Before normalization : Min={}, max={}'.format(X_train.min(),X_train.max()))\n",
    "\n",
    "xmax=X_train.max()\n",
    "X_train = X_train / xmax\n",
    "X_test  = X_test  / xmax\n",
    "\n",
    "print('After normalization  : Min={}, max={}'.format(X_train.min(),X_train.max()))"
   ]
  },
  {
   "cell_type": "code",
   "execution_count": 7,
   "metadata": {},
   "outputs": [
    {
     "data": {
      "text/plain": [
       "(32, 32, 3)"
      ]
     },
     "execution_count": 7,
     "metadata": {},
     "output_type": "execute_result"
    }
   ],
   "source": [
    "X_train[0].shape"
   ]
  },
  {
   "cell_type": "markdown",
   "metadata": {},
   "source": [
    "#### Définition du modèle ?\n",
    "Définir un modèle simple ?: \n",
    "- Quelle est la dimension de la couche d'entrée ?\n",
    "    - Attention chaque exemple fourni au DNN est un vecteur, or dans ce dataset, chaque image (exemple) est une matrice\n",
    "    - --> Solution (regarder la fonction Flatten de Keras (ou autre d'ailleurs)\n",
    "- Deux couches cachées à 64 neurones\n",
    "- une couche de  sortie ?\n",
    "    - Combien de neurones doit elle avoir ?\n",
    "    - Quel type d'activation à utiliser ?\n",
    "- Quelle loss ?\n"
   ]
  },
  {
   "cell_type": "code",
   "execution_count": 8,
   "metadata": {
    "tags": []
   },
   "outputs": [
    {
     "name": "stdout",
     "output_type": "stream",
     "text": [
      "WARNING:tensorflow:From C:\\Users\\jules\\AppData\\Local\\Packages\\PythonSoftwareFoundation.Python.3.10_qbz5n2kfra8p0\\LocalCache\\local-packages\\Python310\\site-packages\\keras\\src\\backend.py:873: The name tf.get_default_graph is deprecated. Please use tf.compat.v1.get_default_graph instead.\n",
      "\n",
      "WARNING:tensorflow:From C:\\Users\\jules\\AppData\\Local\\Packages\\PythonSoftwareFoundation.Python.3.10_qbz5n2kfra8p0\\LocalCache\\local-packages\\Python310\\site-packages\\keras\\src\\optimizers\\__init__.py:309: The name tf.train.Optimizer is deprecated. Please use tf.compat.v1.train.Optimizer instead.\n",
      "\n"
     ]
    }
   ],
   "source": [
    "hidden1     = 64\n",
    "hidden2     = 64\n",
    "new_y_train = keras.utils.to_categorical(y_train, 10)\n",
    "new_y_test  = keras.utils.to_categorical(y_test, 10)\n",
    "model = keras.Sequential([\n",
    "    keras.layers.Flatten(input_shape=(32, 32, 3)),\n",
    "    keras.layers.Dense(hidden1, activation='relu'),\n",
    "    keras.layers.Dense(hidden2, activation='relu'),\n",
    "    keras.layers.Dense(10, activation='softmax')\n",
    "])\n",
    "\n",
    "model.compile(\n",
    "    optimizer='adam',\n",
    "    loss='categorical_crossentropy',\n",
    "    metrics=['accuracy']\n",
    ")"
   ]
  },
  {
   "cell_type": "markdown",
   "metadata": {},
   "source": [
    "### Entrainer le modèle ?"
   ]
  },
  {
   "cell_type": "code",
   "execution_count": 9,
   "metadata": {
    "tags": []
   },
   "outputs": [
    {
     "name": "stdout",
     "output_type": "stream",
     "text": [
      "Epoch 1/16\n",
      "WARNING:tensorflow:From C:\\Users\\jules\\AppData\\Local\\Packages\\PythonSoftwareFoundation.Python.3.10_qbz5n2kfra8p0\\LocalCache\\local-packages\\Python310\\site-packages\\keras\\src\\utils\\tf_utils.py:492: The name tf.ragged.RaggedTensorValue is deprecated. Please use tf.compat.v1.ragged.RaggedTensorValue instead.\n",
      "\n",
      "WARNING:tensorflow:From C:\\Users\\jules\\AppData\\Local\\Packages\\PythonSoftwareFoundation.Python.3.10_qbz5n2kfra8p0\\LocalCache\\local-packages\\Python310\\site-packages\\keras\\src\\engine\\base_layer_utils.py:384: The name tf.executing_eagerly_outside_functions is deprecated. Please use tf.compat.v1.executing_eagerly_outside_functions instead.\n",
      "\n",
      "98/98 [==============================] - 3s 16ms/step - loss: 2.0353 - accuracy: 0.2602 - val_loss: 1.8994 - val_accuracy: 0.3194\n",
      "Epoch 2/16\n",
      "98/98 [==============================] - 1s 6ms/step - loss: 1.8398 - accuracy: 0.3474 - val_loss: 1.7992 - val_accuracy: 0.3611\n",
      "Epoch 3/16\n",
      "98/98 [==============================] - 1s 7ms/step - loss: 1.7669 - accuracy: 0.3736 - val_loss: 1.7326 - val_accuracy: 0.3901\n",
      "Epoch 4/16\n",
      "98/98 [==============================] - 1s 7ms/step - loss: 1.7186 - accuracy: 0.3900 - val_loss: 1.7089 - val_accuracy: 0.3940\n",
      "Epoch 5/16\n",
      "98/98 [==============================] - 1s 6ms/step - loss: 1.6791 - accuracy: 0.4033 - val_loss: 1.6877 - val_accuracy: 0.4055\n",
      "Epoch 6/16\n",
      "98/98 [==============================] - 1s 6ms/step - loss: 1.6469 - accuracy: 0.4175 - val_loss: 1.6546 - val_accuracy: 0.4124\n",
      "Epoch 7/16\n",
      "98/98 [==============================] - 1s 6ms/step - loss: 1.6248 - accuracy: 0.4235 - val_loss: 1.6208 - val_accuracy: 0.4281\n",
      "Epoch 8/16\n",
      "98/98 [==============================] - 1s 6ms/step - loss: 1.6005 - accuracy: 0.4337 - val_loss: 1.6241 - val_accuracy: 0.4164\n",
      "Epoch 9/16\n",
      "98/98 [==============================] - 1s 6ms/step - loss: 1.5830 - accuracy: 0.4396 - val_loss: 1.5790 - val_accuracy: 0.4412\n",
      "Epoch 10/16\n",
      "98/98 [==============================] - 1s 6ms/step - loss: 1.5671 - accuracy: 0.4443 - val_loss: 1.5668 - val_accuracy: 0.4456\n",
      "Epoch 11/16\n",
      "98/98 [==============================] - 1s 6ms/step - loss: 1.5527 - accuracy: 0.4502 - val_loss: 1.5600 - val_accuracy: 0.4454\n",
      "Epoch 12/16\n",
      "98/98 [==============================] - 1s 6ms/step - loss: 1.5365 - accuracy: 0.4562 - val_loss: 1.5670 - val_accuracy: 0.4434\n",
      "Epoch 13/16\n",
      "98/98 [==============================] - 1s 6ms/step - loss: 1.5266 - accuracy: 0.4597 - val_loss: 1.5474 - val_accuracy: 0.4529\n",
      "Epoch 14/16\n",
      "98/98 [==============================] - 1s 6ms/step - loss: 1.5142 - accuracy: 0.4629 - val_loss: 1.5367 - val_accuracy: 0.4504\n",
      "Epoch 15/16\n",
      "98/98 [==============================] - 1s 7ms/step - loss: 1.5135 - accuracy: 0.4630 - val_loss: 1.5515 - val_accuracy: 0.4496\n",
      "Epoch 16/16\n",
      "98/98 [==============================] - 1s 6ms/step - loss: 1.4999 - accuracy: 0.4687 - val_loss: 1.5569 - val_accuracy: 0.4434\n"
     ]
    }
   ],
   "source": [
    "batch_size  = 512\n",
    "epochs      =  16\n",
    "\n",
    "history = model.fit(  \n",
    "    X_train, new_y_train,\n",
    "    batch_size=batch_size,\n",
    "    epochs=epochs,\n",
    "    validation_data=(X_test, new_y_test),\n",
    "    verbose=1\n",
    ")"
   ]
  },
  {
   "cell_type": "markdown",
   "metadata": {},
   "source": [
    "### Evaluer le modèle"
   ]
  },
  {
   "cell_type": "code",
   "execution_count": 11,
   "metadata": {
    "tags": []
   },
   "outputs": [
    {
     "name": "stdout",
     "output_type": "stream",
     "text": [
      "Test loss     : 1.556925654411316\n",
      "Test accuracy : 0.44339999556541443\n"
     ]
    }
   ],
   "source": [
    "score = model.evaluate(X_test, new_y_test, verbose=0)\n",
    "\n",
    "print('Test loss     :', score[0])\n",
    "print('Test accuracy :', score[1])"
   ]
  },
  {
   "cell_type": "code",
   "execution_count": 17,
   "metadata": {},
   "outputs": [],
   "source": [
    "from tensorflow.keras.applications import VGG16\n"
   ]
  }
 ],
 "metadata": {
  "kernelspec": {
   "display_name": "Python 3 (ipykernel)",
   "language": "python",
   "name": "python3"
  },
  "language_info": {
   "codemirror_mode": {
    "name": "ipython",
    "version": 3
   },
   "file_extension": ".py",
   "mimetype": "text/x-python",
   "name": "python",
   "nbconvert_exporter": "python",
   "pygments_lexer": "ipython3",
   "version": "3.10.11"
  }
 },
 "nbformat": 4,
 "nbformat_minor": 4
}
