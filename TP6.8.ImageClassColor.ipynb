{
 "cells": [
  {
   "cell_type": "markdown",
   "metadata": {},
   "source": [
    "#  TP 6.8 Classification d'images Couleur\n",
    "L'objectif des TPS 7.7 et 6.8 est de travailler sur des données de type images.</br>\n",
    "Il existe un grands nombre de datasets pour la classification d'images :\n",
    "image noir et blanc(différents niveaux de gris) ou couleur.\n",
    "Les images sont représentées sous formes de matrices :\n",
    "- une image noire et blanc est représentée sous forme d'une matrice (X,Y), \n",
    "- une image couleur est un tensor (X,Y,3), 3 correspond à(RGB)\n",
    "- les valeurs dans les matrices sont comprises entre 0 et 255.</br>\n",
    "\n",
    "Pour le modèle de neurones, nous prenons un DNN, réseau à couches, MAIS, ces modèles ne sont pas les plus appropriés pour traiter les images.\n",
    "Les meilleurs modèles sont, les CNN (Convolutional Neural Network) (les modèles à convolution). \n"
   ]
  },
  {
   "cell_type": "code",
   "execution_count": 2,
   "metadata": {
    "tags": []
   },
   "outputs": [],
   "source": [
    "import tensorflow as tf\n",
    "from tensorflow import keras\n",
    "import matplotlib.pyplot as plt\n",
    "import keras_tuner as kt  ## le keras tuner \n",
    "\n",
    "from sklearn.model_selection import train_test_split\n",
    "import matplotlib.pyplot as plt\n",
    "from tensorflow.keras.preprocessing.image import load_img, img_to_array\n",
    "\n",
    "import pandas as pd\n",
    "import numpy as np\n"
   ]
  },
  {
   "cell_type": "markdown",
   "metadata": {
    "tags": []
   },
   "source": [
    "## Lecture des données\n",
    "Keras (tensoflow) propose des datasets, il suffit donc de lire le dataset "
   ]
  },
  {
   "cell_type": "code",
   "execution_count": 5,
   "metadata": {
    "tags": []
   },
   "outputs": [],
   "source": [
    "(X_train, y_train), (X_test, y_test) = tf.keras.datasets.cifar10.load_data()"
   ]
  },
  {
   "cell_type": "code",
   "execution_count": 22,
   "metadata": {
    "tags": []
   },
   "outputs": [
    {
     "data": {
      "image/png": "[encoded data removed]",
      "text/plain": [
       "<Figure size 1000x1000 with 3 Axes>"
      ]
     },
     "metadata": {},
     "output_type": "display_data"
    }
   ],
   "source": [
    "def show_images(images,n):\n",
    "    plt.figure(figsize=(10, 10))\n",
    "    for i in range(n):\n",
    "        plt.subplot(6, 6, i + 1)\n",
    "        plt.imshow(images[i])\n",
    "        \n",
    "    plt.show()\n",
    "    \n",
    "show_images(X_train,3)"
   ]
  },
  {
   "cell_type": "markdown",
   "metadata": {},
   "source": [
    "### Afficher ?\n",
    "- les tailles des X train et Y_train\n",
    "- le type de label, la lists les différents labels à prédire \n",
    "- La taille de chaque image"
   ]
  },
  {
   "cell_type": "code",
   "execution_count": 10,
   "metadata": {
    "tags": []
   },
   "outputs": [
    {
     "name": "stdout",
     "output_type": "stream",
     "text": [
      "Taille X_train, X_test : (50000, 32, 32, 3) (10000, 32, 32, 3)\n",
      "Type de label  [[6]\n",
      " [9]\n",
      " [9]\n",
      " ...\n",
      " [9]\n",
      " [1]\n",
      " [1]] Liste de labels  [0 1 2 3 4 5 6 7 8 9]\n",
      "taille  (32, 32, 3)\n"
     ]
    }
   ],
   "source": []
  },
  {
   "cell_type": "markdown",
   "metadata": {},
   "source": [
    "### Une façon simple de normaliser :\n",
    "divider juste par le Max des valeurs (ici 255)"
   ]
  },
  {
   "cell_type": "code",
   "execution_count": 24,
   "metadata": {
    "tags": []
   },
   "outputs": [
    {
     "name": "stdout",
     "output_type": "stream",
     "text": [
      "Before normalization : Min=0.0, max=1.0\n",
      "After normalization  : Min=0.0, max=1.0\n"
     ]
    }
   ],
   "source": [
    "## On peut utiliser une simple normalisation (x-mu)/ecart type)\n",
    "print('Before normalization : Min={}, max={}'.format(X_train.min(),X_train.max()))\n",
    "\n",
    "xmax=X_train.max()\n",
    "X_train = X_train / xmax\n",
    "X_test  = X_test  / xmax\n",
    "\n",
    "print('After normalization  : Min={}, max={}'.format(X_train.min(),X_train.max()))"
   ]
  },
  {
   "cell_type": "markdown",
   "metadata": {},
   "source": [
    "#### Définition du modèle ?\n",
    "Définir un modèle simple ?: \n",
    "- Quelle est la dimension de la couche d'entrée ?\n",
    "    - Attention chaque exemple fourni au DNN est un vecteur, or dans ce dataset, chaque image (exemple) est une matrice\n",
    "    - --> Solution (regarder la fonction Flatten de Keras (ou autre d'ailleurs)\n",
    "- Deux couches cachées à 64 neurones\n",
    "- une couche de  sortie ?\n",
    "    - Combien de neurones doit elle avoir ?\n",
    "    - Quel type d'activation à utiliser ?\n",
    "- Quelle loss ?\n"
   ]
  },
  {
   "cell_type": "code",
   "execution_count": 30,
   "metadata": {
    "tags": []
   },
   "outputs": [],
   "source": [
    "hidden1     = 64\n",
    "hidden2     = 64\n",
    "\n",
    "model = keras.Sequential([\n",
    "    \n",
    "    \n",
    "])\n",
    "\n",
    "model.compile(\n",
    "\n",
    ")"
   ]
  },
  {
   "cell_type": "markdown",
   "metadata": {},
   "source": [
    "### Entrainer le modèle ?"
   ]
  },
  {
   "cell_type": "code",
   "execution_count": 31,
   "metadata": {
    "tags": []
   },
   "outputs": [],
   "source": [
    "batch_size  = 512\n",
    "epochs      =  16\n",
    "\n",
    "history = model.fit(  \n",
    "\n",
    ")"
   ]
  },
  {
   "cell_type": "markdown",
   "metadata": {},
   "source": [
    "### Evaluer le modèle"
   ]
  },
  {
   "cell_type": "code",
   "execution_count": 32,
   "metadata": {
    "tags": []
   },
   "outputs": [
    {
     "name": "stdout",
     "output_type": "stream",
     "text": [
      "Test loss     : 1.5295863151550293\n",
      "Test accuracy : 0.4575999975204468\n"
     ]
    }
   ],
   "source": [
    "score = model.evaluate(X_test, y_test, verbose=0)\n",
    "\n",
    "print('Test loss     :', score[0])\n",
    "print('Test accuracy :', score[1])"
   ]
  },
  {
   "cell_type": "code",
   "execution_count": null,
   "metadata": {},
   "outputs": [],
   "source": []
  }
 ],
 "metadata": {
  "kernelspec": {
   "display_name": "Python 3 (ipykernel)",
   "language": "python",
   "name": "python3"
  },
  "language_info": {
   "codemirror_mode": {
    "name": "ipython",
    "version": 3
   },
   "file_extension": ".py",
   "mimetype": "text/x-python",
   "name": "python",
   "nbconvert_exporter": "python",
   "pygments_lexer": "ipython3",
   "version": "3.11.4"
  }
 },
 "nbformat": 4,
 "nbformat_minor": 4
}
