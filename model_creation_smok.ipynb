{
 "cells": [
  {
   "cell_type": "code",
   "execution_count": 13,
   "metadata": {},
   "outputs": [],
   "source": [
    "import pandas as pd\n",
    "from sklearn.model_selection import train_test_split\n",
    "from sklearn.preprocessing import PolynomialFeatures\n",
    "from sklearn.preprocessing import RobustScaler\n",
    "from sklearn.pipeline import Pipeline\n",
    "import tensorflow as tf\n",
    "from tensorflow import keras\n",
    "import warnings"
   ]
  },
  {
   "cell_type": "code",
   "execution_count": 14,
   "metadata": {},
   "outputs": [],
   "source": [
    "warnings.filterwarnings('ignore')"
   ]
  },
  {
   "cell_type": "code",
   "execution_count": 15,
   "metadata": {},
   "outputs": [],
   "source": [
    "def load_data():\n",
    "    return pd.read_csv('./data/train.new.csv')\n",
    "    "
   ]
  },
  {
   "cell_type": "code",
   "execution_count": 16,
   "metadata": {},
   "outputs": [
    {
     "data": {
      "text/plain": [
       "array([0.6, 0.7, 0.5, 1.2, 1. , 0.9, 1.5, 0.8, 0.3, 0.2, 0.1, 2. , 0.4,\n",
       "       9.9, 1.6, 1.4, 1.3])"
      ]
     },
     "execution_count": 16,
     "metadata": {},
     "output_type": "execute_result"
    }
   ],
   "source": [
    "load_data()['eyesight(right)'].unique()"
   ]
  },
  {
   "cell_type": "code",
   "execution_count": 17,
   "metadata": {},
   "outputs": [],
   "source": [
    "genders = {'M' : 0, 'F' : 1}"
   ]
  },
  {
   "cell_type": "code",
   "execution_count": 31,
   "metadata": {},
   "outputs": [],
   "source": [
    "def get_selected_data():\n",
    "    df = load_data()\n",
    "    df = df.dropna()\n",
    "    df = df.drop('id', axis=1)\n",
    "    df = df.drop('country', axis=1)\n",
    "    df = df.replace(genders)\n",
    "    df['imc'] = df['weight(kg)'] / (df['height(cm)'] / 100) ** 2\n",
    "    #make some categorical variables\n",
    "    df['new_age'] = pd.cut(df['age'], 5, labels=False)\n",
    "    df['eyesight(right)'] = pd.cut(df['eyesight(right)'], 5, labels=False)\n",
    "    df['eyesight(left)'] = pd.cut(df['eyesight(left)'], 5, labels=False)\n",
    "    #make combinations of categorical variables\n",
    "    df['age_bmi'] = df['new_age'] * df['imc']\n",
    "    X = df.drop('smoking', axis=1)\n",
    "    y = df['smoking']\n",
    "    X = X.drop('age', axis=1)\n",
    "    return X, y"
   ]
  },
  {
   "cell_type": "code",
   "execution_count": 32,
   "metadata": {},
   "outputs": [
    {
     "data": {
      "text/plain": [
       "Index(['sex', 'height(cm)', 'weight(kg)', 'waist(cm)', 'eyesight(left)',\n",
       "       'eyesight(right)', 'hearing(left)', 'hearing(right)', 'systolic',\n",
       "       'relaxation', 'fasting blood sugar', 'Cholesterol', 'triglyceride',\n",
       "       'HDL', 'LDL', 'hemoglobin', 'Urine protein', 'serum creatinine', 'AST',\n",
       "       'ALT', 'Gtp', 'dental caries', 'imc', 'new_age', 'age_bmi'],\n",
       "      dtype='object')"
      ]
     },
     "execution_count": 32,
     "metadata": {},
     "output_type": "execute_result"
    }
   ],
   "source": [
    "X,y = get_selected_data()\n",
    "X.columns"
   ]
  },
  {
   "cell_type": "code",
   "execution_count": 33,
   "metadata": {},
   "outputs": [],
   "source": [
    "\n",
    "\n",
    "X_train, X_test, y_train, y_test = train_test_split(X, y, test_size=0.2, random_state=123)\n",
    "\n",
    "pipe = Pipeline([('scaler', RobustScaler())])\n",
    "pipe.fit(X_train)\n",
    "X_train = pipe.transform(X_train)\n",
    "X_test = pipe.transform(X_test)\n",
    "\n"
   ]
  },
  {
   "cell_type": "code",
   "execution_count": 34,
   "metadata": {},
   "outputs": [
    {
     "data": {
      "text/plain": [
       "(109300, 25)"
      ]
     },
     "execution_count": 34,
     "metadata": {},
     "output_type": "execute_result"
    }
   ],
   "source": [
    "X_train.shape"
   ]
  },
  {
   "cell_type": "code",
   "execution_count": 37,
   "metadata": {},
   "outputs": [],
   "source": [
    "epochs = 100\n",
    "batch_size = 16\n",
    "opt = keras.optimizers.Adam(learning_rate = 0.0001)"
   ]
  },
  {
   "cell_type": "code",
   "execution_count": 38,
   "metadata": {},
   "outputs": [],
   "source": [
    "\n",
    "model = keras.Sequential()\n",
    "model.add(keras.layers.Input(shape = (X_train.shape[1],)))\n",
    "model.add(keras.layers.Dense(526,activation = 'relu'))\n",
    "model.add(keras.layers.Flatten())\n",
    "model.add(keras.layers.BatchNormalization())\n",
    "model.add(keras.layers.Dropout(0.25))\n",
    "model.add(keras.layers.Dense(128,activation ='relu'))\n",
    "model.add(keras.layers.BatchNormalization())\n",
    "model.add(keras.layers.Dropout(0.2))\n",
    "model.add(keras.layers.Dense(32,activation ='relu'))\n",
    "model.add(keras.layers.Dense(1,activation = 'relu'))"
   ]
  },
  {
   "cell_type": "code",
   "execution_count": 39,
   "metadata": {},
   "outputs": [
    {
     "name": "stdout",
     "output_type": "stream",
     "text": [
      "Epoch 1/100\n",
      "6832/6832 [==============================] - 10s 1ms/step - loss: 3.2892 - accuracy: 0.6973 - val_loss: 2.3102 - val_accuracy: 0.7346\n",
      "Epoch 2/100\n",
      "6832/6832 [==============================] - 9s 1ms/step - loss: 2.4447 - accuracy: 0.7043 - val_loss: 1.4057 - val_accuracy: 0.7092\n",
      "Epoch 3/100\n",
      "6832/6832 [==============================] - 9s 1ms/step - loss: 1.7449 - accuracy: 0.6928 - val_loss: 1.0605 - val_accuracy: 0.6677\n",
      "Epoch 4/100\n",
      "6832/6832 [==============================] - 10s 1ms/step - loss: 1.3089 - accuracy: 0.6796 - val_loss: 0.7713 - val_accuracy: 0.6841\n",
      "Epoch 5/100\n",
      "6832/6832 [==============================] - 9s 1ms/step - loss: 1.0550 - accuracy: 0.6752 - val_loss: 0.7845 - val_accuracy: 0.6834\n",
      "Epoch 6/100\n",
      "6832/6832 [==============================] - 9s 1ms/step - loss: 0.9307 - accuracy: 0.6853 - val_loss: 0.7303 - val_accuracy: 0.6790\n",
      "Epoch 7/100\n",
      "6832/6832 [==============================] - 9s 1ms/step - loss: 0.8393 - accuracy: 0.6978 - val_loss: 0.6488 - val_accuracy: 0.7386\n",
      "Epoch 8/100\n",
      "6832/6832 [==============================] - 9s 1ms/step - loss: 0.7593 - accuracy: 0.7053 - val_loss: 0.6338 - val_accuracy: 0.7397\n",
      "Epoch 9/100\n",
      "6832/6832 [==============================] - 9s 1ms/step - loss: 0.6952 - accuracy: 0.7187 - val_loss: 0.6096 - val_accuracy: 0.7563\n",
      "Epoch 10/100\n",
      "6832/6832 [==============================] - 9s 1ms/step - loss: 0.6474 - accuracy: 0.7336 - val_loss: 0.5858 - val_accuracy: 0.7663\n",
      "Epoch 11/100\n",
      "6832/6832 [==============================] - 9s 1ms/step - loss: 0.6370 - accuracy: 0.7417 - val_loss: 0.5841 - val_accuracy: 0.7688\n",
      "Epoch 12/100\n",
      "6832/6832 [==============================] - 10s 1ms/step - loss: 0.6096 - accuracy: 0.7484 - val_loss: 0.5695 - val_accuracy: 0.7733\n",
      "Epoch 13/100\n",
      "6832/6832 [==============================] - 9s 1ms/step - loss: 0.6035 - accuracy: 0.7511 - val_loss: 0.5502 - val_accuracy: 0.7710\n",
      "Epoch 14/100\n",
      "6832/6832 [==============================] - 9s 1ms/step - loss: 0.5887 - accuracy: 0.7524 - val_loss: 0.5535 - val_accuracy: 0.7708\n",
      "Epoch 15/100\n",
      "6832/6832 [==============================] - 9s 1ms/step - loss: 0.5838 - accuracy: 0.7534 - val_loss: 0.5512 - val_accuracy: 0.7704\n",
      "Epoch 16/100\n",
      "6832/6832 [==============================] - 9s 1ms/step - loss: 0.5718 - accuracy: 0.7559 - val_loss: 0.5433 - val_accuracy: 0.7753\n",
      "Epoch 17/100\n",
      "6832/6832 [==============================] - 9s 1ms/step - loss: 0.5689 - accuracy: 0.7586 - val_loss: 0.5481 - val_accuracy: 0.7743\n",
      "Epoch 18/100\n",
      "6832/6832 [==============================] - 9s 1ms/step - loss: 0.5689 - accuracy: 0.7592 - val_loss: 0.5394 - val_accuracy: 0.7739\n",
      "Epoch 19/100\n",
      "6832/6832 [==============================] - 9s 1ms/step - loss: 0.5562 - accuracy: 0.7607 - val_loss: 0.5344 - val_accuracy: 0.7756\n",
      "Epoch 20/100\n",
      "6832/6832 [==============================] - 9s 1ms/step - loss: 0.5580 - accuracy: 0.7605 - val_loss: 0.5332 - val_accuracy: 0.7758\n",
      "Epoch 21/100\n",
      "6832/6832 [==============================] - 9s 1ms/step - loss: 0.5502 - accuracy: 0.7631 - val_loss: 0.5322 - val_accuracy: 0.7752\n",
      "Epoch 22/100\n",
      "6832/6832 [==============================] - 9s 1ms/step - loss: 0.5513 - accuracy: 0.7624 - val_loss: 0.5270 - val_accuracy: 0.7744\n",
      "Epoch 23/100\n",
      "6832/6832 [==============================] - 9s 1ms/step - loss: 0.5448 - accuracy: 0.7637 - val_loss: 0.5220 - val_accuracy: 0.7757\n",
      "Epoch 24/100\n",
      "6832/6832 [==============================] - 9s 1ms/step - loss: 0.5368 - accuracy: 0.7658 - val_loss: 0.5155 - val_accuracy: 0.7763\n",
      "Epoch 25/100\n",
      "6832/6832 [==============================] - 9s 1ms/step - loss: 0.5380 - accuracy: 0.7651 - val_loss: 0.5209 - val_accuracy: 0.7763\n",
      "Epoch 26/100\n",
      "6832/6832 [==============================] - 9s 1ms/step - loss: 0.5425 - accuracy: 0.7656 - val_loss: 0.5269 - val_accuracy: 0.7767\n",
      "Epoch 27/100\n",
      "6832/6832 [==============================] - 9s 1ms/step - loss: 0.5375 - accuracy: 0.7674 - val_loss: 0.5230 - val_accuracy: 0.7756\n",
      "Epoch 28/100\n",
      "6832/6832 [==============================] - 9s 1ms/step - loss: 0.5365 - accuracy: 0.7653 - val_loss: 0.5262 - val_accuracy: 0.7784\n",
      "Epoch 29/100\n",
      "6832/6832 [==============================] - 9s 1ms/step - loss: 0.5418 - accuracy: 0.7674 - val_loss: 0.5341 - val_accuracy: 0.7772\n",
      "Epoch 30/100\n",
      "6832/6832 [==============================] - 9s 1ms/step - loss: 0.5334 - accuracy: 0.7678 - val_loss: 0.5172 - val_accuracy: 0.7756\n",
      "Epoch 31/100\n",
      "6832/6832 [==============================] - 9s 1ms/step - loss: 0.5261 - accuracy: 0.7675 - val_loss: 0.5027 - val_accuracy: 0.7778\n",
      "Epoch 32/100\n",
      "6832/6832 [==============================] - 9s 1ms/step - loss: 0.5225 - accuracy: 0.7679 - val_loss: 0.5033 - val_accuracy: 0.7766\n",
      "Epoch 33/100\n",
      "6832/6832 [==============================] - 9s 1ms/step - loss: 0.5181 - accuracy: 0.7680 - val_loss: 0.5052 - val_accuracy: 0.7771\n",
      "Epoch 34/100\n",
      "6832/6832 [==============================] - 9s 1ms/step - loss: 0.5199 - accuracy: 0.7685 - val_loss: 0.5085 - val_accuracy: 0.7776\n",
      "Epoch 35/100\n",
      "6832/6832 [==============================] - 9s 1ms/step - loss: 0.5145 - accuracy: 0.7675 - val_loss: 0.4998 - val_accuracy: 0.7778\n",
      "Epoch 36/100\n",
      "6832/6832 [==============================] - 9s 1ms/step - loss: 0.5152 - accuracy: 0.7691 - val_loss: 0.5073 - val_accuracy: 0.7771\n",
      "Epoch 37/100\n",
      "6832/6832 [==============================] - 9s 1ms/step - loss: 0.5185 - accuracy: 0.7698 - val_loss: 0.4978 - val_accuracy: 0.7775\n",
      "Epoch 38/100\n",
      "6832/6832 [==============================] - 9s 1ms/step - loss: 0.5129 - accuracy: 0.7698 - val_loss: 0.4929 - val_accuracy: 0.7767\n",
      "Epoch 39/100\n",
      "6832/6832 [==============================] - 9s 1ms/step - loss: 0.5070 - accuracy: 0.7687 - val_loss: 0.4918 - val_accuracy: 0.7761\n",
      "Epoch 40/100\n",
      "6832/6832 [==============================] - 9s 1ms/step - loss: 0.5124 - accuracy: 0.7688 - val_loss: 0.5015 - val_accuracy: 0.7763\n",
      "Epoch 41/100\n",
      "6832/6832 [==============================] - 9s 1ms/step - loss: 0.5114 - accuracy: 0.7685 - val_loss: 0.4884 - val_accuracy: 0.7770\n",
      "Epoch 42/100\n",
      "6832/6832 [==============================] - 9s 1ms/step - loss: 0.5113 - accuracy: 0.7689 - val_loss: 0.5057 - val_accuracy: 0.7777\n",
      "Epoch 43/100\n",
      "6832/6832 [==============================] - 9s 1ms/step - loss: 0.5115 - accuracy: 0.7706 - val_loss: 0.4965 - val_accuracy: 0.7785\n",
      "Epoch 44/100\n",
      "6832/6832 [==============================] - 9s 1ms/step - loss: 0.5068 - accuracy: 0.7703 - val_loss: 0.4873 - val_accuracy: 0.7785\n",
      "Epoch 45/100\n",
      "6832/6832 [==============================] - 9s 1ms/step - loss: 0.5045 - accuracy: 0.7710 - val_loss: 0.4900 - val_accuracy: 0.7758\n",
      "Epoch 46/100\n",
      "6832/6832 [==============================] - 9s 1ms/step - loss: 0.5035 - accuracy: 0.7705 - val_loss: 0.4836 - val_accuracy: 0.7765\n",
      "Epoch 47/100\n",
      "6832/6832 [==============================] - 9s 1ms/step - loss: 0.5059 - accuracy: 0.7707 - val_loss: 0.4943 - val_accuracy: 0.7775\n",
      "Epoch 48/100\n",
      "6832/6832 [==============================] - 9s 1ms/step - loss: 0.5036 - accuracy: 0.7711 - val_loss: 0.4789 - val_accuracy: 0.7771\n",
      "Epoch 49/100\n",
      "6832/6832 [==============================] - 9s 1ms/step - loss: 0.4966 - accuracy: 0.7702 - val_loss: 0.4805 - val_accuracy: 0.7786\n",
      "Epoch 50/100\n",
      "6832/6832 [==============================] - 9s 1ms/step - loss: 0.4986 - accuracy: 0.7696 - val_loss: 0.4927 - val_accuracy: 0.7772\n",
      "Epoch 51/100\n",
      "6832/6832 [==============================] - 9s 1ms/step - loss: 0.4991 - accuracy: 0.7710 - val_loss: 0.4805 - val_accuracy: 0.7780\n",
      "Epoch 52/100\n",
      "6832/6832 [==============================] - 9s 1ms/step - loss: 0.4964 - accuracy: 0.7706 - val_loss: 0.4826 - val_accuracy: 0.7772\n",
      "Epoch 53/100\n",
      "6832/6832 [==============================] - 9s 1ms/step - loss: 0.5001 - accuracy: 0.7722 - val_loss: 0.4800 - val_accuracy: 0.7776\n",
      "Epoch 54/100\n",
      "6832/6832 [==============================] - 9s 1ms/step - loss: 0.4968 - accuracy: 0.7724 - val_loss: 0.4865 - val_accuracy: 0.7776\n",
      "Epoch 55/100\n",
      "6832/6832 [==============================] - 9s 1ms/step - loss: 0.4996 - accuracy: 0.7711 - val_loss: 0.4876 - val_accuracy: 0.7778\n",
      "Epoch 56/100\n",
      "6832/6832 [==============================] - 9s 1ms/step - loss: 0.4948 - accuracy: 0.7715 - val_loss: 0.4950 - val_accuracy: 0.7768\n",
      "Epoch 57/100\n",
      "6832/6832 [==============================] - 9s 1ms/step - loss: 0.4975 - accuracy: 0.7713 - val_loss: 0.4917 - val_accuracy: 0.7757\n",
      "Epoch 58/100\n",
      "6832/6832 [==============================] - 9s 1ms/step - loss: 0.4993 - accuracy: 0.7724 - val_loss: 0.4918 - val_accuracy: 0.7771\n",
      "Epoch 59/100\n",
      "6832/6832 [==============================] - 9s 1ms/step - loss: 0.4944 - accuracy: 0.7716 - val_loss: 0.4826 - val_accuracy: 0.7776\n",
      "Epoch 60/100\n",
      "6832/6832 [==============================] - 9s 1ms/step - loss: 0.4898 - accuracy: 0.7718 - val_loss: 0.4841 - val_accuracy: 0.7779\n",
      "Epoch 61/100\n",
      "6832/6832 [==============================] - 9s 1ms/step - loss: 0.4882 - accuracy: 0.7732 - val_loss: 0.4771 - val_accuracy: 0.7776\n",
      "Epoch 62/100\n",
      "6832/6832 [==============================] - 9s 1ms/step - loss: 0.4885 - accuracy: 0.7727 - val_loss: 0.4842 - val_accuracy: 0.7782\n",
      "Epoch 63/100\n",
      "6832/6832 [==============================] - 9s 1ms/step - loss: 0.4887 - accuracy: 0.7729 - val_loss: 0.4742 - val_accuracy: 0.7784\n",
      "Epoch 64/100\n",
      "6832/6832 [==============================] - 9s 1ms/step - loss: 0.4831 - accuracy: 0.7728 - val_loss: 0.4799 - val_accuracy: 0.7775\n",
      "Epoch 65/100\n",
      "6832/6832 [==============================] - 9s 1ms/step - loss: 0.4840 - accuracy: 0.7728 - val_loss: 0.4720 - val_accuracy: 0.7771\n",
      "Epoch 66/100\n",
      "6832/6832 [==============================] - 9s 1ms/step - loss: 0.4785 - accuracy: 0.7729 - val_loss: 0.4759 - val_accuracy: 0.7778\n",
      "Epoch 67/100\n",
      "6832/6832 [==============================] - 9s 1ms/step - loss: 0.4831 - accuracy: 0.7727 - val_loss: 0.4736 - val_accuracy: 0.7764\n",
      "Epoch 68/100\n",
      "6832/6832 [==============================] - 9s 1ms/step - loss: 0.4801 - accuracy: 0.7728 - val_loss: 0.4761 - val_accuracy: 0.7781\n",
      "Epoch 69/100\n",
      "6832/6832 [==============================] - 9s 1ms/step - loss: 0.4777 - accuracy: 0.7727 - val_loss: 0.4656 - val_accuracy: 0.7768\n",
      "Epoch 70/100\n",
      "6832/6832 [==============================] - 9s 1ms/step - loss: 0.4828 - accuracy: 0.7721 - val_loss: 0.4716 - val_accuracy: 0.7761\n",
      "Epoch 71/100\n",
      "6832/6832 [==============================] - 9s 1ms/step - loss: 0.4757 - accuracy: 0.7731 - val_loss: 0.4725 - val_accuracy: 0.7793\n",
      "Epoch 72/100\n",
      "6832/6832 [==============================] - 9s 1ms/step - loss: 0.4779 - accuracy: 0.7719 - val_loss: 0.4711 - val_accuracy: 0.7782\n",
      "Epoch 73/100\n",
      "6832/6832 [==============================] - 9s 1ms/step - loss: 0.4792 - accuracy: 0.7718 - val_loss: 0.4724 - val_accuracy: 0.7786\n",
      "Epoch 74/100\n",
      "6832/6832 [==============================] - 9s 1ms/step - loss: 0.4756 - accuracy: 0.7732 - val_loss: 0.4644 - val_accuracy: 0.7784\n",
      "Epoch 75/100\n",
      "6832/6832 [==============================] - 9s 1ms/step - loss: 0.4810 - accuracy: 0.7728 - val_loss: 0.4732 - val_accuracy: 0.7782\n",
      "Epoch 76/100\n",
      "6832/6832 [==============================] - 9s 1ms/step - loss: 0.4769 - accuracy: 0.7734 - val_loss: 0.4672 - val_accuracy: 0.7770\n",
      "Epoch 77/100\n",
      "6832/6832 [==============================] - 9s 1ms/step - loss: 0.4781 - accuracy: 0.7731 - val_loss: 0.4628 - val_accuracy: 0.7779\n",
      "Epoch 78/100\n",
      "6832/6832 [==============================] - 9s 1ms/step - loss: 0.4730 - accuracy: 0.7731 - val_loss: 0.4633 - val_accuracy: 0.7778\n",
      "Epoch 79/100\n",
      "6832/6832 [==============================] - 9s 1ms/step - loss: 0.4730 - accuracy: 0.7734 - val_loss: 0.4608 - val_accuracy: 0.7765\n",
      "Epoch 80/100\n",
      "6832/6832 [==============================] - 9s 1ms/step - loss: 0.4720 - accuracy: 0.7730 - val_loss: 0.4648 - val_accuracy: 0.7776\n",
      "Epoch 81/100\n",
      "6832/6832 [==============================] - 9s 1ms/step - loss: 0.4710 - accuracy: 0.7733 - val_loss: 0.4715 - val_accuracy: 0.7790\n",
      "Epoch 82/100\n",
      "6832/6832 [==============================] - 9s 1ms/step - loss: 0.4766 - accuracy: 0.7734 - val_loss: 0.4737 - val_accuracy: 0.7773\n",
      "Epoch 83/100\n",
      "6832/6832 [==============================] - 9s 1ms/step - loss: 0.4705 - accuracy: 0.7730 - val_loss: 0.4677 - val_accuracy: 0.7766\n",
      "Epoch 84/100\n",
      "6832/6832 [==============================] - 9s 1ms/step - loss: 0.4725 - accuracy: 0.7730 - val_loss: 0.4706 - val_accuracy: 0.7790\n",
      "Epoch 85/100\n",
      "6832/6832 [==============================] - 9s 1ms/step - loss: 0.4724 - accuracy: 0.7735 - val_loss: 0.4679 - val_accuracy: 0.7786\n",
      "Epoch 86/100\n",
      "6832/6832 [==============================] - 9s 1ms/step - loss: 0.4736 - accuracy: 0.7740 - val_loss: 0.4662 - val_accuracy: 0.7786\n",
      "Epoch 87/100\n",
      "6832/6832 [==============================] - 9s 1ms/step - loss: 0.4734 - accuracy: 0.7741 - val_loss: 0.4674 - val_accuracy: 0.7794\n",
      "Epoch 88/100\n",
      "6832/6832 [==============================] - 9s 1ms/step - loss: 0.4718 - accuracy: 0.7737 - val_loss: 0.4766 - val_accuracy: 0.7781\n",
      "Epoch 89/100\n",
      "6832/6832 [==============================] - 9s 1ms/step - loss: 0.4715 - accuracy: 0.7746 - val_loss: 0.4619 - val_accuracy: 0.7770\n",
      "Epoch 90/100\n",
      "6832/6832 [==============================] - 9s 1ms/step - loss: 0.4693 - accuracy: 0.7740 - val_loss: 0.4624 - val_accuracy: 0.7771\n",
      "Epoch 91/100\n",
      "6832/6832 [==============================] - 9s 1ms/step - loss: 0.4690 - accuracy: 0.7747 - val_loss: 0.4619 - val_accuracy: 0.7772\n",
      "Epoch 92/100\n",
      "6832/6832 [==============================] - 9s 1ms/step - loss: 0.4690 - accuracy: 0.7745 - val_loss: 0.4694 - val_accuracy: 0.7766\n",
      "Epoch 93/100\n",
      "6832/6832 [==============================] - 9s 1ms/step - loss: 0.4687 - accuracy: 0.7754 - val_loss: 0.4694 - val_accuracy: 0.7774\n",
      "Epoch 94/100\n",
      "6832/6832 [==============================] - 9s 1ms/step - loss: 0.4730 - accuracy: 0.7740 - val_loss: 0.4677 - val_accuracy: 0.7803\n",
      "Epoch 95/100\n",
      "6832/6832 [==============================] - 10s 1ms/step - loss: 0.4720 - accuracy: 0.7746 - val_loss: 0.4613 - val_accuracy: 0.7780\n",
      "Epoch 96/100\n",
      "6832/6832 [==============================] - 9s 1ms/step - loss: 0.4712 - accuracy: 0.7740 - val_loss: 0.4640 - val_accuracy: 0.7774\n",
      "Epoch 97/100\n",
      "6832/6832 [==============================] - 9s 1ms/step - loss: 0.4711 - accuracy: 0.7738 - val_loss: 0.4648 - val_accuracy: 0.7790\n",
      "Epoch 98/100\n",
      "6832/6832 [==============================] - 9s 1ms/step - loss: 0.4705 - accuracy: 0.7741 - val_loss: 0.4597 - val_accuracy: 0.7761\n",
      "Epoch 99/100\n",
      "6832/6832 [==============================] - 9s 1ms/step - loss: 0.4678 - accuracy: 0.7742 - val_loss: 0.4668 - val_accuracy: 0.7772\n",
      "Epoch 100/100\n",
      "6832/6832 [==============================] - 9s 1ms/step - loss: 0.4708 - accuracy: 0.7746 - val_loss: 0.4657 - val_accuracy: 0.7761\n"
     ]
    }
   ],
   "source": [
    "model.compile(optimizer = opt,loss = 'binary_crossentropy',metrics = ['accuracy'])\n",
    "history = model.fit(X_train,y_train,epochs = epochs,batch_size = batch_size,validation_data = (X_test,y_test))"
   ]
  },
  {
   "cell_type": "code",
   "execution_count": 40,
   "metadata": {},
   "outputs": [
    {
     "name": "stdout",
     "output_type": "stream",
     "text": [
      "854/854 [==============================] - 1s 676us/step - loss: 0.4657 - accuracy: 0.7761\n"
     ]
    },
    {
     "data": {
      "text/plain": [
       "[0.4656772017478943, 0.7761390805244446]"
      ]
     },
     "execution_count": 40,
     "metadata": {},
     "output_type": "execute_result"
    }
   ],
   "source": [
    "model.evaluate(X_test,y_test)"
   ]
  },
  {
   "cell_type": "code",
   "execution_count": 26,
   "metadata": {},
   "outputs": [],
   "source": [
    "import matplotlib.pyplot as plt"
   ]
  },
  {
   "cell_type": "code",
   "execution_count": 41,
   "metadata": {},
   "outputs": [
    {
     "data": {
      "text/plain": [
       "Text(0, 0.5, 'Accuracy')"
      ]
     },
     "execution_count": 41,
     "metadata": {},
     "output_type": "execute_result"
    },
    {
     "data": {
      "image/png": "[encoded data removed]",
      "text/plain": [
       "<Figure size 640x480 with 1 Axes>"
      ]
     },
     "metadata": {},
     "output_type": "display_data"
    }
   ],
   "source": [
    "df_history = pd.DataFrame(history.history)\n",
    "plt.plot(df_history['accuracy'])\n",
    "plt.plot(df_history['val_accuracy'])\n",
    "#Show max of val_accuracy and show value\n",
    "plt.plot(df_history['val_accuracy'].idxmax(), df_history['val_accuracy'].max(), 'r*')\n",
    "plt.legend(['train accuracy', 'test accuracy', f'max test accuracy ({round(df_history[\"val_accuracy\"].max(),ndigits=6)})'], loc='right')\n",
    "plt.title('Model Accuracy')\n",
    "plt.ylabel('Accuracy')"
   ]
  },
  {
   "cell_type": "code",
   "execution_count": 42,
   "metadata": {},
   "outputs": [],
   "source": [
    "#export all\n",
    "model.save('./model_best_score.h5')\n",
    "df_history.to_csv('./history.csv', index=False)"
   ]
  }
 ],
 "metadata": {
  "kernelspec": {
   "display_name": "Python 3",
   "language": "python",
   "name": "python3"
  },
  "language_info": {
   "codemirror_mode": {
    "name": "ipython",
    "version": 3
   },
   "file_extension": ".py",
   "mimetype": "text/x-python",
   "name": "python",
   "nbconvert_exporter": "python",
   "pygments_lexer": "ipython3",
   "version": "3.11.6"
  }
 },
 "nbformat": 4,
 "nbformat_minor": 2
}
